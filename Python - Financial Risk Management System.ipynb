{
  "cells": [
    {
      "cell_type": "markdown",
      "id": "029612d8-3b68-4c1f-af9a-755cb42b2fb4",
      "metadata": {
        "id": "029612d8-3b68-4c1f-af9a-755cb42b2fb4"
      },
      "source": [
        "# Financial Risk Management System: Fraud Detection and Credit Risk Assessment for Financial Institutions"
      ]
    },
    {
      "cell_type": "markdown",
      "id": "dbaea3a2-0375-4afa-9ff5-da4ce3e8eaaa",
      "metadata": {
        "id": "dbaea3a2-0375-4afa-9ff5-da4ce3e8eaaa"
      },
      "source": [
        "## Objective:\n",
        "This project addresses the crucial real-world need for robust financial risk management by helping institutions detect fraud early and assess customers’ credit risk effectively. Through predictive analytics and comprehensive customer profiling, the system identifies potential fraudulent activities and evaluates the likelihood of credit default, enabling financial institutions to make informed, data-driven decisions. By combining fraud detection with credit risk assessment, this project enhances financial security, minimizes losses, and supports responsible lending practices."
      ]
    },
    {
      "cell_type": "markdown",
      "id": "7da16d6e-2584-410a-9a33-3f1163b39fcc",
      "metadata": {
        "id": "7da16d6e-2584-410a-9a33-3f1163b39fcc"
      },
      "source": [
        "## Contains\n",
        "### 1. Fraud Detection Analysis:\n",
        "\n",
        "* Data Preprocessing: Cleanses and enriches data with features like time-based activity patterns, location consistency, and transaction-to-income ratios.\n",
        "* EDA: Identifies fraud patterns across amount distribution, hour of the day, and device usage.\n",
        "* Modeling: Builds and tunes machine learning models (Logistic Regression, Random Forest, XGBoost) to accurately classify transactions as fraud or not.\n",
        "* Evaluation: Uses recall, precision, and ROC-AUC to assess model performance.\n",
        "\n",
        "### 2. Credit Risk Analysis:\n",
        "\n",
        "* Data Preprocessing: Manages missing data, generates interaction features like income-to-debt ratio.\n",
        "* EDA: Segments users by distribution of verification status.\n",
        "* Modeling: Develops classifiers (Logistic Regression, XGBoost) to predict credit risk based on financial behavior and historical patterns.\n",
        "* Evaluation: Uses recall, precision, and ROC-AUC to assess model performance.."
      ]
    },
    {
      "cell_type": "markdown",
      "id": "cb54a70d-2deb-47b0-a00b-85e6efe3f042",
      "metadata": {
        "id": "cb54a70d-2deb-47b0-a00b-85e6efe3f042"
      },
      "source": [
        "### Importing relevent libraries"
      ]
    },
    {
      "cell_type": "code",
      "execution_count": 48,
      "id": "7d96031f-4761-406f-9830-3613b633ca8e",
      "metadata": {
        "id": "7d96031f-4761-406f-9830-3613b633ca8e"
      },
      "outputs": [],
      "source": [
        "import numpy as np\n",
        "import pandas as pd\n",
        "import matplotlib.pyplot as plt\n",
        "import seaborn as sns\n",
        "from sklearn.model_selection import train_test_split\n",
        "from sklearn.preprocessing import StandardScaler\n",
        "from sklearn.linear_model import LogisticRegression\n",
        "from sklearn.ensemble import RandomForestClassifier\n",
        "from sklearn.metrics import classification_report, confusion_matrix, roc_auc_score,accuracy_score , roc_auc_score,roc_curve,auc\n",
        "from xgboost import XGBClassifier\n",
        "from sklearn.preprocessing import LabelEncoder\n",
        "from sklearn.model_selection import RandomizedSearchCV\n",
        "from sklearn.preprocessing import label_binarize\n",
        "import warnings\n",
        "warnings.filterwarnings('ignore')"
      ]
    },
    {
      "cell_type": "markdown",
      "id": "1c301612-3353-43b1-945c-e549535b711a",
      "metadata": {
        "id": "1c301612-3353-43b1-945c-e549535b711a",
        "jp-MarkdownHeadingCollapsed": true
      },
      "source": [
        "## 1. Fraud Detection Analysis"
      ]
    },
    {
      "cell_type": "markdown",
      "id": "776d4b09-ee99-40c8-983f-9837a9f23f90",
      "metadata": {
        "id": "776d4b09-ee99-40c8-983f-9837a9f23f90"
      },
      "source": [
        "## Data Preprocessing"
      ]
    },
    {
      "cell_type": "code",
      "execution_count": 49,
      "id": "affc1661-d4ea-400e-b3b2-acb7c49c0a75",
      "metadata": {
        "id": "affc1661-d4ea-400e-b3b2-acb7c49c0a75"
      },
      "outputs": [],
      "source": [
        "# importing the data set\n",
        "data = pd.read_csv(\"fraud_detection_dataset.csv\")\n",
        "df1= data.copy()"
      ]
    },
    {
      "cell_type": "code",
      "execution_count": 50,
      "id": "b612bc8d-1844-4fdb-91c8-b11087bbc5eb",
      "metadata": {
        "colab": {
          "base_uri": "https://localhost:8080/",
          "height": 363
        },
        "id": "b612bc8d-1844-4fdb-91c8-b11087bbc5eb",
        "outputId": "a078c99a-a4e2-456f-80c0-22e468127faf"
      },
      "outputs": [
        {
          "output_type": "execute_result",
          "data": {
            "text/plain": [
              "                timestamp                               user_id   amount  \\\n",
              "878936   07-10-2023 15:07  c511a9d4-1c8b-4f73-a5c6-66e6ccf00b9a   158.41   \n",
              "601551   11-07-2023 11:53  b733acc6-5ff7-4073-9e17-d39da32de3f7   205.82   \n",
              "977090   29-05-2023 16:58  358e84a6-0607-4f80-9829-d65929ffef89   387.27   \n",
              "213430   04-12-2023 02:58  998a22b7-1ed8-4f15-9019-e4c807787791   218.87   \n",
              "1019586  21-08-2023 15:02  e3a1a648-1ddf-4bc4-a8ba-64d21443eebb  2664.52   \n",
              "658010   22-05-2023 03:53  b129bc81-9c82-438d-b32b-fd3abd1e007c   675.93   \n",
              "337493   18-04-2023 00:06  7e803e32-134f-4155-8836-18db9630994e   523.60   \n",
              "535834   25-04-2023 06:43  e837d025-b695-44f6-ab17-53764c3040d7   447.91   \n",
              "594314   26-04-2023 19:31  d0787773-a4e6-409c-ae82-debad4ed921f   295.04   \n",
              "380305   07-05-2023 23:48  b5c60450-5ef0-4b73-b24a-7a87b86f31da   692.78   \n",
              "\n",
              "                 location device_type  is_fraud  age     income      debt  \\\n",
              "878936   East Kennethfort      Tablet         0   51  144840.81  29708.34   \n",
              "601551         Martinport      Mobile         0   31   27507.63  10729.79   \n",
              "977090      West Maryside      Tablet         0   66   89013.46  23494.82   \n",
              "213430        North Keith      Tablet         0   36  131809.73   4460.98   \n",
              "1019586        Aaronville     Desktop         1   24  121096.55  10264.87   \n",
              "658010       South Sydney      Tablet         0   58   38214.33  47615.39   \n",
              "337493        South Emily      Tablet         0   44   83212.85  18603.35   \n",
              "535834        Fisherhaven      Tablet         0   55   25556.60  18589.33   \n",
              "594314         Hansontown     Desktop         0   34  103047.10  37009.43   \n",
              "380305         Connieside      Tablet         0   55   28076.52  39951.69   \n",
              "\n",
              "         credit_score  \n",
              "878936            539  \n",
              "601551            469  \n",
              "977090            789  \n",
              "213430            543  \n",
              "1019586           504  \n",
              "658010            814  \n",
              "337493            629  \n",
              "535834            562  \n",
              "594314            386  \n",
              "380305            436  "
            ],
            "text/html": [
              "\n",
              "  <div id=\"df-fa6658db-9c44-4ffc-8059-56db35d88645\" class=\"colab-df-container\">\n",
              "    <div>\n",
              "<style scoped>\n",
              "    .dataframe tbody tr th:only-of-type {\n",
              "        vertical-align: middle;\n",
              "    }\n",
              "\n",
              "    .dataframe tbody tr th {\n",
              "        vertical-align: top;\n",
              "    }\n",
              "\n",
              "    .dataframe thead th {\n",
              "        text-align: right;\n",
              "    }\n",
              "</style>\n",
              "<table border=\"1\" class=\"dataframe\">\n",
              "  <thead>\n",
              "    <tr style=\"text-align: right;\">\n",
              "      <th></th>\n",
              "      <th>timestamp</th>\n",
              "      <th>user_id</th>\n",
              "      <th>amount</th>\n",
              "      <th>location</th>\n",
              "      <th>device_type</th>\n",
              "      <th>is_fraud</th>\n",
              "      <th>age</th>\n",
              "      <th>income</th>\n",
              "      <th>debt</th>\n",
              "      <th>credit_score</th>\n",
              "    </tr>\n",
              "  </thead>\n",
              "  <tbody>\n",
              "    <tr>\n",
              "      <th>878936</th>\n",
              "      <td>07-10-2023 15:07</td>\n",
              "      <td>c511a9d4-1c8b-4f73-a5c6-66e6ccf00b9a</td>\n",
              "      <td>158.41</td>\n",
              "      <td>East Kennethfort</td>\n",
              "      <td>Tablet</td>\n",
              "      <td>0</td>\n",
              "      <td>51</td>\n",
              "      <td>144840.81</td>\n",
              "      <td>29708.34</td>\n",
              "      <td>539</td>\n",
              "    </tr>\n",
              "    <tr>\n",
              "      <th>601551</th>\n",
              "      <td>11-07-2023 11:53</td>\n",
              "      <td>b733acc6-5ff7-4073-9e17-d39da32de3f7</td>\n",
              "      <td>205.82</td>\n",
              "      <td>Martinport</td>\n",
              "      <td>Mobile</td>\n",
              "      <td>0</td>\n",
              "      <td>31</td>\n",
              "      <td>27507.63</td>\n",
              "      <td>10729.79</td>\n",
              "      <td>469</td>\n",
              "    </tr>\n",
              "    <tr>\n",
              "      <th>977090</th>\n",
              "      <td>29-05-2023 16:58</td>\n",
              "      <td>358e84a6-0607-4f80-9829-d65929ffef89</td>\n",
              "      <td>387.27</td>\n",
              "      <td>West Maryside</td>\n",
              "      <td>Tablet</td>\n",
              "      <td>0</td>\n",
              "      <td>66</td>\n",
              "      <td>89013.46</td>\n",
              "      <td>23494.82</td>\n",
              "      <td>789</td>\n",
              "    </tr>\n",
              "    <tr>\n",
              "      <th>213430</th>\n",
              "      <td>04-12-2023 02:58</td>\n",
              "      <td>998a22b7-1ed8-4f15-9019-e4c807787791</td>\n",
              "      <td>218.87</td>\n",
              "      <td>North Keith</td>\n",
              "      <td>Tablet</td>\n",
              "      <td>0</td>\n",
              "      <td>36</td>\n",
              "      <td>131809.73</td>\n",
              "      <td>4460.98</td>\n",
              "      <td>543</td>\n",
              "    </tr>\n",
              "    <tr>\n",
              "      <th>1019586</th>\n",
              "      <td>21-08-2023 15:02</td>\n",
              "      <td>e3a1a648-1ddf-4bc4-a8ba-64d21443eebb</td>\n",
              "      <td>2664.52</td>\n",
              "      <td>Aaronville</td>\n",
              "      <td>Desktop</td>\n",
              "      <td>1</td>\n",
              "      <td>24</td>\n",
              "      <td>121096.55</td>\n",
              "      <td>10264.87</td>\n",
              "      <td>504</td>\n",
              "    </tr>\n",
              "    <tr>\n",
              "      <th>658010</th>\n",
              "      <td>22-05-2023 03:53</td>\n",
              "      <td>b129bc81-9c82-438d-b32b-fd3abd1e007c</td>\n",
              "      <td>675.93</td>\n",
              "      <td>South Sydney</td>\n",
              "      <td>Tablet</td>\n",
              "      <td>0</td>\n",
              "      <td>58</td>\n",
              "      <td>38214.33</td>\n",
              "      <td>47615.39</td>\n",
              "      <td>814</td>\n",
              "    </tr>\n",
              "    <tr>\n",
              "      <th>337493</th>\n",
              "      <td>18-04-2023 00:06</td>\n",
              "      <td>7e803e32-134f-4155-8836-18db9630994e</td>\n",
              "      <td>523.60</td>\n",
              "      <td>South Emily</td>\n",
              "      <td>Tablet</td>\n",
              "      <td>0</td>\n",
              "      <td>44</td>\n",
              "      <td>83212.85</td>\n",
              "      <td>18603.35</td>\n",
              "      <td>629</td>\n",
              "    </tr>\n",
              "    <tr>\n",
              "      <th>535834</th>\n",
              "      <td>25-04-2023 06:43</td>\n",
              "      <td>e837d025-b695-44f6-ab17-53764c3040d7</td>\n",
              "      <td>447.91</td>\n",
              "      <td>Fisherhaven</td>\n",
              "      <td>Tablet</td>\n",
              "      <td>0</td>\n",
              "      <td>55</td>\n",
              "      <td>25556.60</td>\n",
              "      <td>18589.33</td>\n",
              "      <td>562</td>\n",
              "    </tr>\n",
              "    <tr>\n",
              "      <th>594314</th>\n",
              "      <td>26-04-2023 19:31</td>\n",
              "      <td>d0787773-a4e6-409c-ae82-debad4ed921f</td>\n",
              "      <td>295.04</td>\n",
              "      <td>Hansontown</td>\n",
              "      <td>Desktop</td>\n",
              "      <td>0</td>\n",
              "      <td>34</td>\n",
              "      <td>103047.10</td>\n",
              "      <td>37009.43</td>\n",
              "      <td>386</td>\n",
              "    </tr>\n",
              "    <tr>\n",
              "      <th>380305</th>\n",
              "      <td>07-05-2023 23:48</td>\n",
              "      <td>b5c60450-5ef0-4b73-b24a-7a87b86f31da</td>\n",
              "      <td>692.78</td>\n",
              "      <td>Connieside</td>\n",
              "      <td>Tablet</td>\n",
              "      <td>0</td>\n",
              "      <td>55</td>\n",
              "      <td>28076.52</td>\n",
              "      <td>39951.69</td>\n",
              "      <td>436</td>\n",
              "    </tr>\n",
              "  </tbody>\n",
              "</table>\n",
              "</div>\n",
              "    <div class=\"colab-df-buttons\">\n",
              "\n",
              "  <div class=\"colab-df-container\">\n",
              "    <button class=\"colab-df-convert\" onclick=\"convertToInteractive('df-fa6658db-9c44-4ffc-8059-56db35d88645')\"\n",
              "            title=\"Convert this dataframe to an interactive table.\"\n",
              "            style=\"display:none;\">\n",
              "\n",
              "  <svg xmlns=\"http://www.w3.org/2000/svg\" height=\"24px\" viewBox=\"0 -960 960 960\">\n",
              "    <path d=\"M120-120v-720h720v720H120Zm60-500h600v-160H180v160Zm220 220h160v-160H400v160Zm0 220h160v-160H400v160ZM180-400h160v-160H180v160Zm440 0h160v-160H620v160ZM180-180h160v-160H180v160Zm440 0h160v-160H620v160Z\"/>\n",
              "  </svg>\n",
              "    </button>\n",
              "\n",
              "  <style>\n",
              "    .colab-df-container {\n",
              "      display:flex;\n",
              "      gap: 12px;\n",
              "    }\n",
              "\n",
              "    .colab-df-convert {\n",
              "      background-color: #E8F0FE;\n",
              "      border: none;\n",
              "      border-radius: 50%;\n",
              "      cursor: pointer;\n",
              "      display: none;\n",
              "      fill: #1967D2;\n",
              "      height: 32px;\n",
              "      padding: 0 0 0 0;\n",
              "      width: 32px;\n",
              "    }\n",
              "\n",
              "    .colab-df-convert:hover {\n",
              "      background-color: #E2EBFA;\n",
              "      box-shadow: 0px 1px 2px rgba(60, 64, 67, 0.3), 0px 1px 3px 1px rgba(60, 64, 67, 0.15);\n",
              "      fill: #174EA6;\n",
              "    }\n",
              "\n",
              "    .colab-df-buttons div {\n",
              "      margin-bottom: 4px;\n",
              "    }\n",
              "\n",
              "    [theme=dark] .colab-df-convert {\n",
              "      background-color: #3B4455;\n",
              "      fill: #D2E3FC;\n",
              "    }\n",
              "\n",
              "    [theme=dark] .colab-df-convert:hover {\n",
              "      background-color: #434B5C;\n",
              "      box-shadow: 0px 1px 3px 1px rgba(0, 0, 0, 0.15);\n",
              "      filter: drop-shadow(0px 1px 2px rgba(0, 0, 0, 0.3));\n",
              "      fill: #FFFFFF;\n",
              "    }\n",
              "  </style>\n",
              "\n",
              "    <script>\n",
              "      const buttonEl =\n",
              "        document.querySelector('#df-fa6658db-9c44-4ffc-8059-56db35d88645 button.colab-df-convert');\n",
              "      buttonEl.style.display =\n",
              "        google.colab.kernel.accessAllowed ? 'block' : 'none';\n",
              "\n",
              "      async function convertToInteractive(key) {\n",
              "        const element = document.querySelector('#df-fa6658db-9c44-4ffc-8059-56db35d88645');\n",
              "        const dataTable =\n",
              "          await google.colab.kernel.invokeFunction('convertToInteractive',\n",
              "                                                    [key], {});\n",
              "        if (!dataTable) return;\n",
              "\n",
              "        const docLinkHtml = 'Like what you see? Visit the ' +\n",
              "          '<a target=\"_blank\" href=https://colab.research.google.com/notebooks/data_table.ipynb>data table notebook</a>'\n",
              "          + ' to learn more about interactive tables.';\n",
              "        element.innerHTML = '';\n",
              "        dataTable['output_type'] = 'display_data';\n",
              "        await google.colab.output.renderOutput(dataTable, element);\n",
              "        const docLink = document.createElement('div');\n",
              "        docLink.innerHTML = docLinkHtml;\n",
              "        element.appendChild(docLink);\n",
              "      }\n",
              "    </script>\n",
              "  </div>\n",
              "\n",
              "\n",
              "<div id=\"df-9f5cea43-6e95-4d43-8897-823c208a67da\">\n",
              "  <button class=\"colab-df-quickchart\" onclick=\"quickchart('df-9f5cea43-6e95-4d43-8897-823c208a67da')\"\n",
              "            title=\"Suggest charts\"\n",
              "            style=\"display:none;\">\n",
              "\n",
              "<svg xmlns=\"http://www.w3.org/2000/svg\" height=\"24px\"viewBox=\"0 0 24 24\"\n",
              "     width=\"24px\">\n",
              "    <g>\n",
              "        <path d=\"M19 3H5c-1.1 0-2 .9-2 2v14c0 1.1.9 2 2 2h14c1.1 0 2-.9 2-2V5c0-1.1-.9-2-2-2zM9 17H7v-7h2v7zm4 0h-2V7h2v10zm4 0h-2v-4h2v4z\"/>\n",
              "    </g>\n",
              "</svg>\n",
              "  </button>\n",
              "\n",
              "<style>\n",
              "  .colab-df-quickchart {\n",
              "      --bg-color: #E8F0FE;\n",
              "      --fill-color: #1967D2;\n",
              "      --hover-bg-color: #E2EBFA;\n",
              "      --hover-fill-color: #174EA6;\n",
              "      --disabled-fill-color: #AAA;\n",
              "      --disabled-bg-color: #DDD;\n",
              "  }\n",
              "\n",
              "  [theme=dark] .colab-df-quickchart {\n",
              "      --bg-color: #3B4455;\n",
              "      --fill-color: #D2E3FC;\n",
              "      --hover-bg-color: #434B5C;\n",
              "      --hover-fill-color: #FFFFFF;\n",
              "      --disabled-bg-color: #3B4455;\n",
              "      --disabled-fill-color: #666;\n",
              "  }\n",
              "\n",
              "  .colab-df-quickchart {\n",
              "    background-color: var(--bg-color);\n",
              "    border: none;\n",
              "    border-radius: 50%;\n",
              "    cursor: pointer;\n",
              "    display: none;\n",
              "    fill: var(--fill-color);\n",
              "    height: 32px;\n",
              "    padding: 0;\n",
              "    width: 32px;\n",
              "  }\n",
              "\n",
              "  .colab-df-quickchart:hover {\n",
              "    background-color: var(--hover-bg-color);\n",
              "    box-shadow: 0 1px 2px rgba(60, 64, 67, 0.3), 0 1px 3px 1px rgba(60, 64, 67, 0.15);\n",
              "    fill: var(--button-hover-fill-color);\n",
              "  }\n",
              "\n",
              "  .colab-df-quickchart-complete:disabled,\n",
              "  .colab-df-quickchart-complete:disabled:hover {\n",
              "    background-color: var(--disabled-bg-color);\n",
              "    fill: var(--disabled-fill-color);\n",
              "    box-shadow: none;\n",
              "  }\n",
              "\n",
              "  .colab-df-spinner {\n",
              "    border: 2px solid var(--fill-color);\n",
              "    border-color: transparent;\n",
              "    border-bottom-color: var(--fill-color);\n",
              "    animation:\n",
              "      spin 1s steps(1) infinite;\n",
              "  }\n",
              "\n",
              "  @keyframes spin {\n",
              "    0% {\n",
              "      border-color: transparent;\n",
              "      border-bottom-color: var(--fill-color);\n",
              "      border-left-color: var(--fill-color);\n",
              "    }\n",
              "    20% {\n",
              "      border-color: transparent;\n",
              "      border-left-color: var(--fill-color);\n",
              "      border-top-color: var(--fill-color);\n",
              "    }\n",
              "    30% {\n",
              "      border-color: transparent;\n",
              "      border-left-color: var(--fill-color);\n",
              "      border-top-color: var(--fill-color);\n",
              "      border-right-color: var(--fill-color);\n",
              "    }\n",
              "    40% {\n",
              "      border-color: transparent;\n",
              "      border-right-color: var(--fill-color);\n",
              "      border-top-color: var(--fill-color);\n",
              "    }\n",
              "    60% {\n",
              "      border-color: transparent;\n",
              "      border-right-color: var(--fill-color);\n",
              "    }\n",
              "    80% {\n",
              "      border-color: transparent;\n",
              "      border-right-color: var(--fill-color);\n",
              "      border-bottom-color: var(--fill-color);\n",
              "    }\n",
              "    90% {\n",
              "      border-color: transparent;\n",
              "      border-bottom-color: var(--fill-color);\n",
              "    }\n",
              "  }\n",
              "</style>\n",
              "\n",
              "  <script>\n",
              "    async function quickchart(key) {\n",
              "      const quickchartButtonEl =\n",
              "        document.querySelector('#' + key + ' button');\n",
              "      quickchartButtonEl.disabled = true;  // To prevent multiple clicks.\n",
              "      quickchartButtonEl.classList.add('colab-df-spinner');\n",
              "      try {\n",
              "        const charts = await google.colab.kernel.invokeFunction(\n",
              "            'suggestCharts', [key], {});\n",
              "      } catch (error) {\n",
              "        console.error('Error during call to suggestCharts:', error);\n",
              "      }\n",
              "      quickchartButtonEl.classList.remove('colab-df-spinner');\n",
              "      quickchartButtonEl.classList.add('colab-df-quickchart-complete');\n",
              "    }\n",
              "    (() => {\n",
              "      let quickchartButtonEl =\n",
              "        document.querySelector('#df-9f5cea43-6e95-4d43-8897-823c208a67da button');\n",
              "      quickchartButtonEl.style.display =\n",
              "        google.colab.kernel.accessAllowed ? 'block' : 'none';\n",
              "    })();\n",
              "  </script>\n",
              "</div>\n",
              "\n",
              "    </div>\n",
              "  </div>\n"
            ],
            "application/vnd.google.colaboratory.intrinsic+json": {
              "type": "dataframe",
              "summary": "{\n  \"name\": \"df1\",\n  \"rows\": 10,\n  \"fields\": [\n    {\n      \"column\": \"timestamp\",\n      \"properties\": {\n        \"dtype\": \"string\",\n        \"num_unique_values\": 10,\n        \"samples\": [\n          \"26-04-2023 19:31\",\n          \"11-07-2023 11:53\",\n          \"22-05-2023 03:53\"\n        ],\n        \"semantic_type\": \"\",\n        \"description\": \"\"\n      }\n    },\n    {\n      \"column\": \"user_id\",\n      \"properties\": {\n        \"dtype\": \"string\",\n        \"num_unique_values\": 10,\n        \"samples\": [\n          \"d0787773-a4e6-409c-ae82-debad4ed921f\",\n          \"b733acc6-5ff7-4073-9e17-d39da32de3f7\",\n          \"b129bc81-9c82-438d-b32b-fd3abd1e007c\"\n        ],\n        \"semantic_type\": \"\",\n        \"description\": \"\"\n      }\n    },\n    {\n      \"column\": \"amount\",\n      \"properties\": {\n        \"dtype\": \"number\",\n        \"std\": 740.2837955398517,\n        \"min\": 158.41,\n        \"max\": 2664.52,\n        \"num_unique_values\": 10,\n        \"samples\": [\n          295.04,\n          205.82,\n          675.93\n        ],\n        \"semantic_type\": \"\",\n        \"description\": \"\"\n      }\n    },\n    {\n      \"column\": \"location\",\n      \"properties\": {\n        \"dtype\": \"string\",\n        \"num_unique_values\": 10,\n        \"samples\": [\n          \"Hansontown\",\n          \"Martinport\",\n          \"South Sydney\"\n        ],\n        \"semantic_type\": \"\",\n        \"description\": \"\"\n      }\n    },\n    {\n      \"column\": \"device_type\",\n      \"properties\": {\n        \"dtype\": \"category\",\n        \"num_unique_values\": 3,\n        \"samples\": [\n          \"Tablet\",\n          \"Mobile\",\n          \"Desktop\"\n        ],\n        \"semantic_type\": \"\",\n        \"description\": \"\"\n      }\n    },\n    {\n      \"column\": \"is_fraud\",\n      \"properties\": {\n        \"dtype\": \"number\",\n        \"std\": 0,\n        \"min\": 0,\n        \"max\": 1,\n        \"num_unique_values\": 2,\n        \"samples\": [\n          1,\n          0\n        ],\n        \"semantic_type\": \"\",\n        \"description\": \"\"\n      }\n    },\n    {\n      \"column\": \"age\",\n      \"properties\": {\n        \"dtype\": \"number\",\n        \"std\": 13,\n        \"min\": 24,\n        \"max\": 66,\n        \"num_unique_values\": 9,\n        \"samples\": [\n          55,\n          31\n        ],\n        \"semantic_type\": \"\",\n        \"description\": \"\"\n      }\n    },\n    {\n      \"column\": \"income\",\n      \"properties\": {\n        \"dtype\": \"number\",\n        \"std\": 46375.33874945242,\n        \"min\": 25556.6,\n        \"max\": 144840.81,\n        \"num_unique_values\": 10,\n        \"samples\": [\n          103047.1,\n          27507.63\n        ],\n        \"semantic_type\": \"\",\n        \"description\": \"\"\n      }\n    },\n    {\n      \"column\": \"debt\",\n      \"properties\": {\n        \"dtype\": \"number\",\n        \"std\": 14217.106736721122,\n        \"min\": 4460.98,\n        \"max\": 47615.39,\n        \"num_unique_values\": 10,\n        \"samples\": [\n          37009.43,\n          10729.79\n        ],\n        \"semantic_type\": \"\",\n        \"description\": \"\"\n      }\n    },\n    {\n      \"column\": \"credit_score\",\n      \"properties\": {\n        \"dtype\": \"number\",\n        \"std\": 141,\n        \"min\": 386,\n        \"max\": 814,\n        \"num_unique_values\": 10,\n        \"samples\": [\n          386,\n          469\n        ],\n        \"semantic_type\": \"\",\n        \"description\": \"\"\n      }\n    }\n  ]\n}"
            }
          },
          "metadata": {},
          "execution_count": 50
        }
      ],
      "source": [
        "df1.sample(10)"
      ]
    },
    {
      "cell_type": "code",
      "execution_count": 51,
      "id": "1ea50896-094d-4d1b-b534-54af0d5acbde",
      "metadata": {
        "colab": {
          "base_uri": "https://localhost:8080/"
        },
        "id": "1ea50896-094d-4d1b-b534-54af0d5acbde",
        "outputId": "d748b86b-3af5-4fca-d4d5-8be8af04c946"
      },
      "outputs": [
        {
          "output_type": "execute_result",
          "data": {
            "text/plain": [
              "(1048575, 10)"
            ]
          },
          "metadata": {},
          "execution_count": 51
        }
      ],
      "source": [
        "df1.shape"
      ]
    },
    {
      "cell_type": "code",
      "execution_count": 52,
      "id": "0d7acf01-508b-4301-b632-89290644fdf0",
      "metadata": {
        "colab": {
          "base_uri": "https://localhost:8080/"
        },
        "id": "0d7acf01-508b-4301-b632-89290644fdf0",
        "outputId": "c1795cb9-4983-4519-a3a0-63291ed624c7"
      },
      "outputs": [
        {
          "output_type": "stream",
          "name": "stdout",
          "text": [
            "<class 'pandas.core.frame.DataFrame'>\n",
            "RangeIndex: 1048575 entries, 0 to 1048574\n",
            "Data columns (total 10 columns):\n",
            " #   Column        Non-Null Count    Dtype  \n",
            "---  ------        --------------    -----  \n",
            " 0   timestamp     1048575 non-null  object \n",
            " 1   user_id       1048575 non-null  object \n",
            " 2   amount        1048575 non-null  float64\n",
            " 3   location      1048575 non-null  object \n",
            " 4   device_type   1048575 non-null  object \n",
            " 5   is_fraud      1048575 non-null  int64  \n",
            " 6   age           1048575 non-null  int64  \n",
            " 7   income        1048575 non-null  float64\n",
            " 8   debt          1048575 non-null  float64\n",
            " 9   credit_score  1048575 non-null  int64  \n",
            "dtypes: float64(3), int64(3), object(4)\n",
            "memory usage: 80.0+ MB\n"
          ]
        }
      ],
      "source": [
        "df1.info()"
      ]
    },
    {
      "cell_type": "code",
      "execution_count": 53,
      "id": "818b7c55-a36f-414d-a544-90a7bbaa098d",
      "metadata": {
        "colab": {
          "base_uri": "https://localhost:8080/",
          "height": 300
        },
        "id": "818b7c55-a36f-414d-a544-90a7bbaa098d",
        "outputId": "4e40722d-88ff-4610-e0a9-1eb9017a113d"
      },
      "outputs": [
        {
          "output_type": "execute_result",
          "data": {
            "text/plain": [
              "             amount      is_fraud           age        income          debt  \\\n",
              "count  1.048575e+06  1.048575e+06  1.048575e+06  1.048575e+06  1.048575e+06   \n",
              "mean   6.196493e+02  4.632477e-02  4.401753e+01  8.501809e+04  2.498568e+04   \n",
              "std    6.424198e+02  2.101876e-01  1.529689e+01  3.755313e+04  1.443316e+04   \n",
              "min    1.000000e+01  0.000000e+00  1.800000e+01  2.000009e+04  8.000000e-02   \n",
              "25%    2.690500e+02  0.000000e+00  3.100000e+01  5.249128e+04  1.248374e+04   \n",
              "50%    5.285200e+02  0.000000e+00  4.400000e+01  8.504178e+04  2.497456e+04   \n",
              "75%    7.880500e+02  0.000000e+00  5.700000e+01  1.175834e+05  3.746977e+04   \n",
              "max    4.999800e+03  1.000000e+00  7.000000e+01  1.500000e+05  4.999993e+04   \n",
              "\n",
              "       credit_score  \n",
              "count  1.048575e+06  \n",
              "mean   5.747631e+02  \n",
              "std    1.591370e+02  \n",
              "min    3.000000e+02  \n",
              "25%    4.370000e+02  \n",
              "50%    5.750000e+02  \n",
              "75%    7.130000e+02  \n",
              "max    8.500000e+02  "
            ],
            "text/html": [
              "\n",
              "  <div id=\"df-ffca8451-7558-4565-be26-694073c38be2\" class=\"colab-df-container\">\n",
              "    <div>\n",
              "<style scoped>\n",
              "    .dataframe tbody tr th:only-of-type {\n",
              "        vertical-align: middle;\n",
              "    }\n",
              "\n",
              "    .dataframe tbody tr th {\n",
              "        vertical-align: top;\n",
              "    }\n",
              "\n",
              "    .dataframe thead th {\n",
              "        text-align: right;\n",
              "    }\n",
              "</style>\n",
              "<table border=\"1\" class=\"dataframe\">\n",
              "  <thead>\n",
              "    <tr style=\"text-align: right;\">\n",
              "      <th></th>\n",
              "      <th>amount</th>\n",
              "      <th>is_fraud</th>\n",
              "      <th>age</th>\n",
              "      <th>income</th>\n",
              "      <th>debt</th>\n",
              "      <th>credit_score</th>\n",
              "    </tr>\n",
              "  </thead>\n",
              "  <tbody>\n",
              "    <tr>\n",
              "      <th>count</th>\n",
              "      <td>1.048575e+06</td>\n",
              "      <td>1.048575e+06</td>\n",
              "      <td>1.048575e+06</td>\n",
              "      <td>1.048575e+06</td>\n",
              "      <td>1.048575e+06</td>\n",
              "      <td>1.048575e+06</td>\n",
              "    </tr>\n",
              "    <tr>\n",
              "      <th>mean</th>\n",
              "      <td>6.196493e+02</td>\n",
              "      <td>4.632477e-02</td>\n",
              "      <td>4.401753e+01</td>\n",
              "      <td>8.501809e+04</td>\n",
              "      <td>2.498568e+04</td>\n",
              "      <td>5.747631e+02</td>\n",
              "    </tr>\n",
              "    <tr>\n",
              "      <th>std</th>\n",
              "      <td>6.424198e+02</td>\n",
              "      <td>2.101876e-01</td>\n",
              "      <td>1.529689e+01</td>\n",
              "      <td>3.755313e+04</td>\n",
              "      <td>1.443316e+04</td>\n",
              "      <td>1.591370e+02</td>\n",
              "    </tr>\n",
              "    <tr>\n",
              "      <th>min</th>\n",
              "      <td>1.000000e+01</td>\n",
              "      <td>0.000000e+00</td>\n",
              "      <td>1.800000e+01</td>\n",
              "      <td>2.000009e+04</td>\n",
              "      <td>8.000000e-02</td>\n",
              "      <td>3.000000e+02</td>\n",
              "    </tr>\n",
              "    <tr>\n",
              "      <th>25%</th>\n",
              "      <td>2.690500e+02</td>\n",
              "      <td>0.000000e+00</td>\n",
              "      <td>3.100000e+01</td>\n",
              "      <td>5.249128e+04</td>\n",
              "      <td>1.248374e+04</td>\n",
              "      <td>4.370000e+02</td>\n",
              "    </tr>\n",
              "    <tr>\n",
              "      <th>50%</th>\n",
              "      <td>5.285200e+02</td>\n",
              "      <td>0.000000e+00</td>\n",
              "      <td>4.400000e+01</td>\n",
              "      <td>8.504178e+04</td>\n",
              "      <td>2.497456e+04</td>\n",
              "      <td>5.750000e+02</td>\n",
              "    </tr>\n",
              "    <tr>\n",
              "      <th>75%</th>\n",
              "      <td>7.880500e+02</td>\n",
              "      <td>0.000000e+00</td>\n",
              "      <td>5.700000e+01</td>\n",
              "      <td>1.175834e+05</td>\n",
              "      <td>3.746977e+04</td>\n",
              "      <td>7.130000e+02</td>\n",
              "    </tr>\n",
              "    <tr>\n",
              "      <th>max</th>\n",
              "      <td>4.999800e+03</td>\n",
              "      <td>1.000000e+00</td>\n",
              "      <td>7.000000e+01</td>\n",
              "      <td>1.500000e+05</td>\n",
              "      <td>4.999993e+04</td>\n",
              "      <td>8.500000e+02</td>\n",
              "    </tr>\n",
              "  </tbody>\n",
              "</table>\n",
              "</div>\n",
              "    <div class=\"colab-df-buttons\">\n",
              "\n",
              "  <div class=\"colab-df-container\">\n",
              "    <button class=\"colab-df-convert\" onclick=\"convertToInteractive('df-ffca8451-7558-4565-be26-694073c38be2')\"\n",
              "            title=\"Convert this dataframe to an interactive table.\"\n",
              "            style=\"display:none;\">\n",
              "\n",
              "  <svg xmlns=\"http://www.w3.org/2000/svg\" height=\"24px\" viewBox=\"0 -960 960 960\">\n",
              "    <path d=\"M120-120v-720h720v720H120Zm60-500h600v-160H180v160Zm220 220h160v-160H400v160Zm0 220h160v-160H400v160ZM180-400h160v-160H180v160Zm440 0h160v-160H620v160ZM180-180h160v-160H180v160Zm440 0h160v-160H620v160Z\"/>\n",
              "  </svg>\n",
              "    </button>\n",
              "\n",
              "  <style>\n",
              "    .colab-df-container {\n",
              "      display:flex;\n",
              "      gap: 12px;\n",
              "    }\n",
              "\n",
              "    .colab-df-convert {\n",
              "      background-color: #E8F0FE;\n",
              "      border: none;\n",
              "      border-radius: 50%;\n",
              "      cursor: pointer;\n",
              "      display: none;\n",
              "      fill: #1967D2;\n",
              "      height: 32px;\n",
              "      padding: 0 0 0 0;\n",
              "      width: 32px;\n",
              "    }\n",
              "\n",
              "    .colab-df-convert:hover {\n",
              "      background-color: #E2EBFA;\n",
              "      box-shadow: 0px 1px 2px rgba(60, 64, 67, 0.3), 0px 1px 3px 1px rgba(60, 64, 67, 0.15);\n",
              "      fill: #174EA6;\n",
              "    }\n",
              "\n",
              "    .colab-df-buttons div {\n",
              "      margin-bottom: 4px;\n",
              "    }\n",
              "\n",
              "    [theme=dark] .colab-df-convert {\n",
              "      background-color: #3B4455;\n",
              "      fill: #D2E3FC;\n",
              "    }\n",
              "\n",
              "    [theme=dark] .colab-df-convert:hover {\n",
              "      background-color: #434B5C;\n",
              "      box-shadow: 0px 1px 3px 1px rgba(0, 0, 0, 0.15);\n",
              "      filter: drop-shadow(0px 1px 2px rgba(0, 0, 0, 0.3));\n",
              "      fill: #FFFFFF;\n",
              "    }\n",
              "  </style>\n",
              "\n",
              "    <script>\n",
              "      const buttonEl =\n",
              "        document.querySelector('#df-ffca8451-7558-4565-be26-694073c38be2 button.colab-df-convert');\n",
              "      buttonEl.style.display =\n",
              "        google.colab.kernel.accessAllowed ? 'block' : 'none';\n",
              "\n",
              "      async function convertToInteractive(key) {\n",
              "        const element = document.querySelector('#df-ffca8451-7558-4565-be26-694073c38be2');\n",
              "        const dataTable =\n",
              "          await google.colab.kernel.invokeFunction('convertToInteractive',\n",
              "                                                    [key], {});\n",
              "        if (!dataTable) return;\n",
              "\n",
              "        const docLinkHtml = 'Like what you see? Visit the ' +\n",
              "          '<a target=\"_blank\" href=https://colab.research.google.com/notebooks/data_table.ipynb>data table notebook</a>'\n",
              "          + ' to learn more about interactive tables.';\n",
              "        element.innerHTML = '';\n",
              "        dataTable['output_type'] = 'display_data';\n",
              "        await google.colab.output.renderOutput(dataTable, element);\n",
              "        const docLink = document.createElement('div');\n",
              "        docLink.innerHTML = docLinkHtml;\n",
              "        element.appendChild(docLink);\n",
              "      }\n",
              "    </script>\n",
              "  </div>\n",
              "\n",
              "\n",
              "<div id=\"df-e07581f5-1eb1-4fcb-aca2-d04b8f7a88c4\">\n",
              "  <button class=\"colab-df-quickchart\" onclick=\"quickchart('df-e07581f5-1eb1-4fcb-aca2-d04b8f7a88c4')\"\n",
              "            title=\"Suggest charts\"\n",
              "            style=\"display:none;\">\n",
              "\n",
              "<svg xmlns=\"http://www.w3.org/2000/svg\" height=\"24px\"viewBox=\"0 0 24 24\"\n",
              "     width=\"24px\">\n",
              "    <g>\n",
              "        <path d=\"M19 3H5c-1.1 0-2 .9-2 2v14c0 1.1.9 2 2 2h14c1.1 0 2-.9 2-2V5c0-1.1-.9-2-2-2zM9 17H7v-7h2v7zm4 0h-2V7h2v10zm4 0h-2v-4h2v4z\"/>\n",
              "    </g>\n",
              "</svg>\n",
              "  </button>\n",
              "\n",
              "<style>\n",
              "  .colab-df-quickchart {\n",
              "      --bg-color: #E8F0FE;\n",
              "      --fill-color: #1967D2;\n",
              "      --hover-bg-color: #E2EBFA;\n",
              "      --hover-fill-color: #174EA6;\n",
              "      --disabled-fill-color: #AAA;\n",
              "      --disabled-bg-color: #DDD;\n",
              "  }\n",
              "\n",
              "  [theme=dark] .colab-df-quickchart {\n",
              "      --bg-color: #3B4455;\n",
              "      --fill-color: #D2E3FC;\n",
              "      --hover-bg-color: #434B5C;\n",
              "      --hover-fill-color: #FFFFFF;\n",
              "      --disabled-bg-color: #3B4455;\n",
              "      --disabled-fill-color: #666;\n",
              "  }\n",
              "\n",
              "  .colab-df-quickchart {\n",
              "    background-color: var(--bg-color);\n",
              "    border: none;\n",
              "    border-radius: 50%;\n",
              "    cursor: pointer;\n",
              "    display: none;\n",
              "    fill: var(--fill-color);\n",
              "    height: 32px;\n",
              "    padding: 0;\n",
              "    width: 32px;\n",
              "  }\n",
              "\n",
              "  .colab-df-quickchart:hover {\n",
              "    background-color: var(--hover-bg-color);\n",
              "    box-shadow: 0 1px 2px rgba(60, 64, 67, 0.3), 0 1px 3px 1px rgba(60, 64, 67, 0.15);\n",
              "    fill: var(--button-hover-fill-color);\n",
              "  }\n",
              "\n",
              "  .colab-df-quickchart-complete:disabled,\n",
              "  .colab-df-quickchart-complete:disabled:hover {\n",
              "    background-color: var(--disabled-bg-color);\n",
              "    fill: var(--disabled-fill-color);\n",
              "    box-shadow: none;\n",
              "  }\n",
              "\n",
              "  .colab-df-spinner {\n",
              "    border: 2px solid var(--fill-color);\n",
              "    border-color: transparent;\n",
              "    border-bottom-color: var(--fill-color);\n",
              "    animation:\n",
              "      spin 1s steps(1) infinite;\n",
              "  }\n",
              "\n",
              "  @keyframes spin {\n",
              "    0% {\n",
              "      border-color: transparent;\n",
              "      border-bottom-color: var(--fill-color);\n",
              "      border-left-color: var(--fill-color);\n",
              "    }\n",
              "    20% {\n",
              "      border-color: transparent;\n",
              "      border-left-color: var(--fill-color);\n",
              "      border-top-color: var(--fill-color);\n",
              "    }\n",
              "    30% {\n",
              "      border-color: transparent;\n",
              "      border-left-color: var(--fill-color);\n",
              "      border-top-color: var(--fill-color);\n",
              "      border-right-color: var(--fill-color);\n",
              "    }\n",
              "    40% {\n",
              "      border-color: transparent;\n",
              "      border-right-color: var(--fill-color);\n",
              "      border-top-color: var(--fill-color);\n",
              "    }\n",
              "    60% {\n",
              "      border-color: transparent;\n",
              "      border-right-color: var(--fill-color);\n",
              "    }\n",
              "    80% {\n",
              "      border-color: transparent;\n",
              "      border-right-color: var(--fill-color);\n",
              "      border-bottom-color: var(--fill-color);\n",
              "    }\n",
              "    90% {\n",
              "      border-color: transparent;\n",
              "      border-bottom-color: var(--fill-color);\n",
              "    }\n",
              "  }\n",
              "</style>\n",
              "\n",
              "  <script>\n",
              "    async function quickchart(key) {\n",
              "      const quickchartButtonEl =\n",
              "        document.querySelector('#' + key + ' button');\n",
              "      quickchartButtonEl.disabled = true;  // To prevent multiple clicks.\n",
              "      quickchartButtonEl.classList.add('colab-df-spinner');\n",
              "      try {\n",
              "        const charts = await google.colab.kernel.invokeFunction(\n",
              "            'suggestCharts', [key], {});\n",
              "      } catch (error) {\n",
              "        console.error('Error during call to suggestCharts:', error);\n",
              "      }\n",
              "      quickchartButtonEl.classList.remove('colab-df-spinner');\n",
              "      quickchartButtonEl.classList.add('colab-df-quickchart-complete');\n",
              "    }\n",
              "    (() => {\n",
              "      let quickchartButtonEl =\n",
              "        document.querySelector('#df-e07581f5-1eb1-4fcb-aca2-d04b8f7a88c4 button');\n",
              "      quickchartButtonEl.style.display =\n",
              "        google.colab.kernel.accessAllowed ? 'block' : 'none';\n",
              "    })();\n",
              "  </script>\n",
              "</div>\n",
              "\n",
              "    </div>\n",
              "  </div>\n"
            ],
            "application/vnd.google.colaboratory.intrinsic+json": {
              "type": "dataframe",
              "summary": "{\n  \"name\": \"df1\",\n  \"rows\": 8,\n  \"fields\": [\n    {\n      \"column\": \"amount\",\n      \"properties\": {\n        \"dtype\": \"number\",\n        \"std\": 370333.84506977216,\n        \"min\": 10.0,\n        \"max\": 1048575.0,\n        \"num_unique_values\": 8,\n        \"samples\": [\n          619.6493237488972,\n          528.52,\n          1048575.0\n        ],\n        \"semantic_type\": \"\",\n        \"description\": \"\"\n      }\n    },\n    {\n      \"column\": \"is_fraud\",\n      \"properties\": {\n        \"dtype\": \"number\",\n        \"std\": 370727.183078041,\n        \"min\": 0.0,\n        \"max\": 1048575.0,\n        \"num_unique_values\": 5,\n        \"samples\": [\n          0.046324774098180865,\n          1.0,\n          0.21018761032763572\n        ],\n        \"semantic_type\": \"\",\n        \"description\": \"\"\n      }\n    },\n    {\n      \"column\": \"age\",\n      \"properties\": {\n        \"dtype\": \"number\",\n        \"std\": 370713.1394944518,\n        \"min\": 15.296889642979645,\n        \"max\": 1048575.0,\n        \"num_unique_values\": 8,\n        \"samples\": [\n          44.017530458002526,\n          44.0,\n          1048575.0\n        ],\n        \"semantic_type\": \"\",\n        \"description\": \"\"\n      }\n    },\n    {\n      \"column\": \"income\",\n      \"properties\": {\n        \"dtype\": \"number\",\n        \"std\": 345657.6113629464,\n        \"min\": 20000.09,\n        \"max\": 1048575.0,\n        \"num_unique_values\": 8,\n        \"samples\": [\n          85018.09000295636,\n          85041.78,\n          1048575.0\n        ],\n        \"semantic_type\": \"\",\n        \"description\": \"\"\n      }\n    },\n    {\n      \"column\": \"debt\",\n      \"properties\": {\n        \"dtype\": \"number\",\n        \"std\": 362753.0117901409,\n        \"min\": 0.08,\n        \"max\": 1048575.0,\n        \"num_unique_values\": 8,\n        \"samples\": [\n          24985.680005388265,\n          24974.56,\n          1048575.0\n        ],\n        \"semantic_type\": \"\",\n        \"description\": \"\"\n      }\n    },\n    {\n      \"column\": \"credit_score\",\n      \"properties\": {\n        \"dtype\": \"number\",\n        \"std\": 370545.03462640126,\n        \"min\": 159.13699310358504,\n        \"max\": 1048575.0,\n        \"num_unique_values\": 8,\n        \"samples\": [\n          574.7631356841428,\n          575.0,\n          1048575.0\n        ],\n        \"semantic_type\": \"\",\n        \"description\": \"\"\n      }\n    }\n  ]\n}"
            }
          },
          "metadata": {},
          "execution_count": 53
        }
      ],
      "source": [
        "df1.describe()"
      ]
    },
    {
      "cell_type": "code",
      "execution_count": 54,
      "id": "51e1ae25-2fd2-4c94-b304-fb7328dcb305",
      "metadata": {
        "colab": {
          "base_uri": "https://localhost:8080/",
          "height": 398
        },
        "id": "51e1ae25-2fd2-4c94-b304-fb7328dcb305",
        "outputId": "6b4b4584-571b-4818-d626-1f9658be64ff"
      },
      "outputs": [
        {
          "output_type": "execute_result",
          "data": {
            "text/plain": [
              "timestamp       0\n",
              "user_id         0\n",
              "amount          0\n",
              "location        0\n",
              "device_type     0\n",
              "is_fraud        0\n",
              "age             0\n",
              "income          0\n",
              "debt            0\n",
              "credit_score    0\n",
              "dtype: int64"
            ],
            "text/html": [
              "<div>\n",
              "<style scoped>\n",
              "    .dataframe tbody tr th:only-of-type {\n",
              "        vertical-align: middle;\n",
              "    }\n",
              "\n",
              "    .dataframe tbody tr th {\n",
              "        vertical-align: top;\n",
              "    }\n",
              "\n",
              "    .dataframe thead th {\n",
              "        text-align: right;\n",
              "    }\n",
              "</style>\n",
              "<table border=\"1\" class=\"dataframe\">\n",
              "  <thead>\n",
              "    <tr style=\"text-align: right;\">\n",
              "      <th></th>\n",
              "      <th>0</th>\n",
              "    </tr>\n",
              "  </thead>\n",
              "  <tbody>\n",
              "    <tr>\n",
              "      <th>timestamp</th>\n",
              "      <td>0</td>\n",
              "    </tr>\n",
              "    <tr>\n",
              "      <th>user_id</th>\n",
              "      <td>0</td>\n",
              "    </tr>\n",
              "    <tr>\n",
              "      <th>amount</th>\n",
              "      <td>0</td>\n",
              "    </tr>\n",
              "    <tr>\n",
              "      <th>location</th>\n",
              "      <td>0</td>\n",
              "    </tr>\n",
              "    <tr>\n",
              "      <th>device_type</th>\n",
              "      <td>0</td>\n",
              "    </tr>\n",
              "    <tr>\n",
              "      <th>is_fraud</th>\n",
              "      <td>0</td>\n",
              "    </tr>\n",
              "    <tr>\n",
              "      <th>age</th>\n",
              "      <td>0</td>\n",
              "    </tr>\n",
              "    <tr>\n",
              "      <th>income</th>\n",
              "      <td>0</td>\n",
              "    </tr>\n",
              "    <tr>\n",
              "      <th>debt</th>\n",
              "      <td>0</td>\n",
              "    </tr>\n",
              "    <tr>\n",
              "      <th>credit_score</th>\n",
              "      <td>0</td>\n",
              "    </tr>\n",
              "  </tbody>\n",
              "</table>\n",
              "</div><br><label><b>dtype:</b> int64</label>"
            ]
          },
          "metadata": {},
          "execution_count": 54
        }
      ],
      "source": [
        "#checking is there any null value\n",
        "df1.isnull().sum()"
      ]
    },
    {
      "cell_type": "markdown",
      "id": "07d4f406-328c-4eeb-a277-379ca252607d",
      "metadata": {
        "id": "07d4f406-328c-4eeb-a277-379ca252607d"
      },
      "source": [
        "### Handling Outliers"
      ]
    },
    {
      "cell_type": "code",
      "execution_count": 55,
      "id": "53fbaa18-fc01-408c-bd16-2392b7b51004",
      "metadata": {
        "colab": {
          "base_uri": "https://localhost:8080/",
          "height": 428
        },
        "id": "53fbaa18-fc01-408c-bd16-2392b7b51004",
        "outputId": "2e1dfaa2-e639-4cf7-e52a-5450029ae305"
      },
      "outputs": [
        {
          "output_type": "execute_result",
          "data": {
            "text/plain": [
              "<Axes: ylabel='amount'>"
            ]
          },
          "metadata": {},
          "execution_count": 55
        },
        {
          "output_type": "display_data",
          "data": {
            "text/plain": [
              "<Figure size 640x480 with 1 Axes>"
            ],
            "image/png": "[encoded data removed]"
          },
          "metadata": {}
        }
      ],
      "source": [
        "#checking outliers through visualizations\n",
        "sns.boxplot(data=df1['amount'])"
      ]
    },
    {
      "cell_type": "code",
      "execution_count": 56,
      "id": "b7abdde6-d298-4ad0-8674-dafd68d33818",
      "metadata": {
        "id": "b7abdde6-d298-4ad0-8674-dafd68d33818"
      },
      "outputs": [],
      "source": [
        "#removing outliers\n",
        "Q1 = df1['amount'].quantile(0.25)\n",
        "Q3 = df1['amount'].quantile(0.75)\n",
        "IQR = Q3-Q1\n",
        "\n",
        "df1 =  df1[(df1['amount'] >= Q1 - 1.5 * IQR ) & (df1['amount'] <= Q3 + 1.5 * IQR )]"
      ]
    },
    {
      "cell_type": "code",
      "execution_count": 57,
      "id": "c999ced9-3d8e-4aa6-b886-3fef6654cc5f",
      "metadata": {
        "colab": {
          "base_uri": "https://localhost:8080/",
          "height": 428
        },
        "id": "c999ced9-3d8e-4aa6-b886-3fef6654cc5f",
        "outputId": "88aeb4fc-1af4-4ec6-812d-2f2b9f092d9a"
      },
      "outputs": [
        {
          "output_type": "execute_result",
          "data": {
            "text/plain": [
              "<Axes: ylabel='amount'>"
            ]
          },
          "metadata": {},
          "execution_count": 57
        },
        {
          "output_type": "display_data",
          "data": {
            "text/plain": [
              "<Figure size 640x480 with 1 Axes>"
            ],
            "image/png": "[encoded data removed]"
          },
          "metadata": {}
        }
      ],
      "source": [
        "sns.boxplot(data=df1['amount'])"
      ]
    },
    {
      "cell_type": "markdown",
      "id": "7c1207ce-8f26-4356-ad71-f91459eba56c",
      "metadata": {
        "id": "7c1207ce-8f26-4356-ad71-f91459eba56c"
      },
      "source": [
        "## Feature Engineering"
      ]
    },
    {
      "cell_type": "code",
      "execution_count": 58,
      "id": "686a1361-0620-45d7-9cb1-673466db42a1",
      "metadata": {
        "id": "686a1361-0620-45d7-9cb1-673466db42a1"
      },
      "outputs": [],
      "source": [
        "#extracting date-time from timestamp\n",
        "df1['timestamp'] = pd.to_datetime(df1['timestamp'])\n",
        "df1['hour'] = df1['timestamp'].dt.hour\n",
        "df1['day_of_week'] = df1['timestamp'].dt.dayofweek\n",
        "df1['is_weekend'] = df1['day_of_week'].apply(lambda x: 1 if x >= 5 else 0)"
      ]
    },
    {
      "cell_type": "code",
      "execution_count": 59,
      "id": "f80213ae-54c3-446e-8a5c-d9dcdf86b172",
      "metadata": {
        "id": "f80213ae-54c3-446e-8a5c-d9dcdf86b172"
      },
      "outputs": [],
      "source": [
        "# Transiction to income ratio\n",
        "df1['transition_income_ratio'] = df1['amount'] / df1['income']"
      ]
    },
    {
      "cell_type": "code",
      "execution_count": 60,
      "id": "532b2403-da2e-47f7-ac89-c94a1bbc4bdb",
      "metadata": {
        "id": "532b2403-da2e-47f7-ac89-c94a1bbc4bdb"
      },
      "outputs": [],
      "source": [
        "# Location-Device Consistency (assuming previous device/location columns)\n",
        "df1['location_device_change'] = df1.groupby('user_id')['location'].shift() != df1['location']\n",
        "df1['location_device_change'] = df1['location_device_change'].fillna(0).astype(int)"
      ]
    },
    {
      "cell_type": "markdown",
      "id": "a01e79d0-4fb9-4b6d-b2db-9c5f976be4b7",
      "metadata": {
        "id": "a01e79d0-4fb9-4b6d-b2db-9c5f976be4b7"
      },
      "source": [
        "## Exploratory Data Analysis"
      ]
    },
    {
      "cell_type": "code",
      "execution_count": 61,
      "id": "83126dc9-b12e-4e1d-b221-2417c7c059bd",
      "metadata": {
        "colab": {
          "base_uri": "https://localhost:8080/",
          "height": 564
        },
        "id": "83126dc9-b12e-4e1d-b221-2417c7c059bd",
        "outputId": "ad3cce53-34f1-43f8-e20b-82094b7d0a30"
      },
      "outputs": [
        {
          "output_type": "display_data",
          "data": {
            "text/plain": [
              "<Figure size 800x600 with 1 Axes>"
            ],
            "image/png": "[encoded data removed]"
          },
          "metadata": {}
        }
      ],
      "source": [
        "# Distribution of Amount by Fraudulent and Non-Fraudulent Transactions\n",
        "plt.figure(figsize = (8,6))\n",
        "sns.histplot(df1[df1['is_fraud'] == 0]['amount'], bins = 30, color= 'red', label = 'Non-Fraudulent')\n",
        "sns.histplot(df1[df1['is_fraud'] == 1]['amount'], bins = 30, color= 'blue', label = 'Fraudulent')\n",
        "plt.legend()\n",
        "plt.title(\"Transaction amount by Fraud\")\n",
        "plt.show()"
      ]
    },
    {
      "cell_type": "markdown",
      "id": "58b96fa2-36c1-439c-bfe9-20e0e1db0e18",
      "metadata": {
        "id": "58b96fa2-36c1-439c-bfe9-20e0e1db0e18"
      },
      "source": [
        "Comment: Here we can observe that for fraudulant transactions the amount is more than 1000."
      ]
    },
    {
      "cell_type": "code",
      "execution_count": 62,
      "id": "59d5a146-0545-41d7-a0a8-c09df561e5e6",
      "metadata": {
        "colab": {
          "base_uri": "https://localhost:8080/",
          "height": 564
        },
        "id": "59d5a146-0545-41d7-a0a8-c09df561e5e6",
        "outputId": "378d16b6-8f31-4a32-a811-d34ef66f6f4c"
      },
      "outputs": [
        {
          "output_type": "display_data",
          "data": {
            "text/plain": [
              "<Figure size 800x600 with 1 Axes>"
            ],
            "image/png": "[encoded data removed]"
          },
          "metadata": {}
        }
      ],
      "source": [
        "# Count of Fraud by Device Type\n",
        "plt.figure(figsize= (8,6))\n",
        "sns.countplot(x='device_type', hue= 'is_fraud', data= df1)\n",
        "plt.title('Count of Fraud by Device Type')\n",
        "plt.show()"
      ]
    },
    {
      "cell_type": "code",
      "execution_count": 63,
      "id": "7d4176b2-d0dd-4aeb-8ed4-787eaba435b0",
      "metadata": {
        "colab": {
          "base_uri": "https://localhost:8080/",
          "height": 568
        },
        "id": "7d4176b2-d0dd-4aeb-8ed4-787eaba435b0",
        "outputId": "26ba6b3c-2898-4569-a988-05e35ca3ead4"
      },
      "outputs": [
        {
          "output_type": "display_data",
          "data": {
            "text/plain": [
              "<Figure size 800x600 with 1 Axes>"
            ],
            "image/png": "[encoded data removed]"
          },
          "metadata": {}
        }
      ],
      "source": [
        "# Fraud Rate by Hour of the Day\n",
        "hourly_fraud_rate = df1.groupby('hour')['is_fraud'].mean()\n",
        "plt.figure(figsize=(8,6))\n",
        "hourly_fraud_rate.plot(kind = 'bar', color = 'blue')\n",
        "plt.title(\"Fraud Rate by Hour\")\n",
        "plt.xlabel('Hour of the Day')\n",
        "plt.ylabel('Fraud Rate')\n",
        "plt.show()"
      ]
    },
    {
      "cell_type": "markdown",
      "id": "01033eed-4ace-4c2b-a144-50331e2837ec",
      "metadata": {
        "id": "01033eed-4ace-4c2b-a144-50331e2837ec"
      },
      "source": [
        "## Data Modelling"
      ]
    },
    {
      "cell_type": "markdown",
      "id": "06e62010-4de8-463d-b17c-35b055cce789",
      "metadata": {
        "id": "06e62010-4de8-463d-b17c-35b055cce789"
      },
      "source": [
        "### Feature selection & data splitting"
      ]
    },
    {
      "cell_type": "code",
      "execution_count": 64,
      "id": "5a532da0-58cc-44c0-9384-9d569dcafb75",
      "metadata": {
        "id": "5a532da0-58cc-44c0-9384-9d569dcafb75"
      },
      "outputs": [],
      "source": [
        "# seleting features and dependent variables\n",
        "features = ['amount', 'hour', 'day_of_week','is_weekend','transition_income_ratio', 'location_device_change',\n",
        "           'age', 'income', 'debt', 'credit_score']\n",
        "X = df1[features]\n",
        "y = df1['is_fraud']\n",
        "\n",
        "#Splitting the data\n",
        "X_train, X_test, y_train, y_test = train_test_split(X,y, test_size=0.2, random_state= 42)\n",
        "\n",
        "#scaler features\n",
        "scaler = StandardScaler()\n",
        "X_train = scaler.fit_transform(X_train)\n",
        "X_test = scaler.transform(X_test)"
      ]
    },
    {
      "cell_type": "markdown",
      "id": "92d199ee-299f-47f0-9e0f-aca71d17b0e2",
      "metadata": {
        "id": "92d199ee-299f-47f0-9e0f-aca71d17b0e2"
      },
      "source": [
        "### Logistic Regression"
      ]
    },
    {
      "cell_type": "code",
      "execution_count": 65,
      "id": "5165f3bf-814e-4c82-a1d5-a5cd016febbd",
      "metadata": {
        "id": "5165f3bf-814e-4c82-a1d5-a5cd016febbd",
        "outputId": "ac6cdad5-92b4-48c6-ae81-2e76e18ed7e9",
        "colab": {
          "base_uri": "https://localhost:8080/"
        }
      },
      "outputs": [
        {
          "output_type": "stream",
          "name": "stdout",
          "text": [
            "Logistic Regression Report: \n",
            "               precision    recall  f1-score   support\n",
            "\n",
            "           0       1.00      1.00      1.00    200003\n",
            "           1       0.80      1.00      0.89      1389\n",
            "\n",
            "    accuracy                           1.00    201392\n",
            "   macro avg       0.90      1.00      0.94    201392\n",
            "weighted avg       1.00      1.00      1.00    201392\n",
            "\n",
            "Confusion Matrix:\n",
            " [[199659    344]\n",
            " [     0   1389]]\n",
            "ROC AUC Score: \n",
            " 0.9999997084276997\n",
            "Accuracy_score:\n",
            " 0.9982918884563439\n"
          ]
        }
      ],
      "source": [
        "#Logistic regression model\n",
        "lr = LogisticRegression(class_weight= 'balanced')\n",
        "lr.fit(X_train,y_train)\n",
        "\n",
        "#predictions and evaluation\n",
        "y_pred = lr.predict(X_test)\n",
        "print(\"Logistic Regression Report: \\n\", classification_report(y_test,y_pred))\n",
        "print(\"Confusion Matrix:\\n\",confusion_matrix(y_test,y_pred))\n",
        "print(\"ROC AUC Score: \\n\", roc_auc_score(y_test, lr.predict_proba(X_test)[:,1]))\n",
        "print(\"Accuracy_score:\\n\",accuracy_score(y_test,y_pred))"
      ]
    },
    {
      "cell_type": "markdown",
      "id": "4b718909-0a19-47a7-9f0e-a8d133de0e47",
      "metadata": {
        "id": "4b718909-0a19-47a7-9f0e-a8d133de0e47"
      },
      "source": [
        "### Random Forest Model"
      ]
    },
    {
      "cell_type": "code",
      "execution_count": 66,
      "id": "9PY9cSwqiSNP",
      "metadata": {
        "colab": {
          "base_uri": "https://localhost:8080/"
        },
        "id": "9PY9cSwqiSNP",
        "outputId": "b1e68b61-f8da-4732-931b-a25bff8fc002"
      },
      "outputs": [
        {
          "output_type": "stream",
          "name": "stdout",
          "text": [
            "Random Forest Report:\n",
            "               precision    recall  f1-score   support\n",
            "\n",
            "           0       1.00      1.00      1.00    200003\n",
            "           1       1.00      1.00      1.00      1389\n",
            "\n",
            "    accuracy                           1.00    201392\n",
            "   macro avg       1.00      1.00      1.00    201392\n",
            "weighted avg       1.00      1.00      1.00    201392\n",
            "\n",
            "Confusion Matrix:\n",
            " [[200003      0]\n",
            " [     0   1389]]\n",
            "Best Random Forest ROC AUC Score: 1.0\n",
            "Accuracy_score:\n",
            " 1.0\n"
          ]
        }
      ],
      "source": [
        "# Random Forest Model\n",
        "rf = RandomForestClassifier(random_state=42)\n",
        "rf.fit(X_train,y_train)\n",
        "# prediction and evaluation\n",
        "pred=rf.predict(X_test)\n",
        "print(\"Random Forest Report:\\n\", classification_report(y_test,pred))\n",
        "print(\"Confusion Matrix:\\n\", confusion_matrix(y_test,pred))\n",
        "print(\"Best Random Forest ROC AUC Score:\", roc_auc_score(y_test, rf.predict_proba(X_test)[:, 1]))\n",
        "print(\"Accuracy_score:\\n\",accuracy_score(y_test,pred))"
      ]
    },
    {
      "cell_type": "markdown",
      "id": "2fc836f0-a596-4aee-bbae-5be3f7274b56",
      "metadata": {
        "id": "2fc836f0-a596-4aee-bbae-5be3f7274b56"
      },
      "source": [
        "### XGBoost Model"
      ]
    },
    {
      "cell_type": "code",
      "execution_count": 67,
      "id": "h1QS8AJd1gb2",
      "metadata": {
        "colab": {
          "base_uri": "https://localhost:8080/"
        },
        "id": "h1QS8AJd1gb2",
        "outputId": "156c046f-d2b2-47d7-d0ac-6b1e2a3e9d08"
      },
      "outputs": [
        {
          "output_type": "stream",
          "name": "stdout",
          "text": [
            "XG Boost Report:\n",
            "               precision    recall  f1-score   support\n",
            "\n",
            "           0       1.00      1.00      1.00    200003\n",
            "           1       0.98      0.98      0.98      1389\n",
            "\n",
            "    accuracy                           1.00    201392\n",
            "   macro avg       0.99      0.99      0.99    201392\n",
            "weighted avg       1.00      1.00      1.00    201392\n",
            "\n",
            "Confusion Matrix:\n",
            " [[199971     32]\n",
            " [    33   1356]]\n",
            "Best XG Boost ROC AUC Score: 0.9999827756363353\n",
            "Accuracy_score of XG Boost:\n",
            " 0.9996772463652975\n"
          ]
        }
      ],
      "source": [
        "# xtreme gradient boost model\n",
        "xgb=XGBClassifier()\n",
        "xgb.fit(X_train,y_train)\n",
        "# prediction and evaluation\n",
        "pred_xgb=xgb.predict(X_test)\n",
        "print(\"XG Boost Report:\\n\", classification_report(y_test,pred_xgb))\n",
        "print(\"Confusion Matrix:\\n\", confusion_matrix(y_test,pred_xgb))\n",
        "print(\"Best XG Boost ROC AUC Score:\", roc_auc_score(y_test, xgb.predict_proba(X_test)[:, 1]))\n",
        "print(\"Accuracy_score of XG Boost:\\n\",accuracy_score(y_test,pred_xgb))"
      ]
    },
    {
      "cell_type": "markdown",
      "id": "e98a13d0-fe05-4197-82c1-b67b383b798c",
      "metadata": {
        "id": "e98a13d0-fe05-4197-82c1-b67b383b798c"
      },
      "source": [
        "Comment: All of these model performing well but we saw that there is inconvenience in the data set that's why all models are preforming execessively well."
      ]
    },
    {
      "cell_type": "markdown",
      "id": "fd15e86f-2637-4d3e-8b09-13cedec9cb5a",
      "metadata": {
        "id": "fd15e86f-2637-4d3e-8b09-13cedec9cb5a"
      },
      "source": [
        "## 2. Credit Risk Analysis"
      ]
    },
    {
      "cell_type": "markdown",
      "id": "0444a215-9d96-41f6-9237-2ebce9e0fb82",
      "metadata": {
        "id": "0444a215-9d96-41f6-9237-2ebce9e0fb82"
      },
      "source": [
        "## Data Preprocessing"
      ]
    },
    {
      "cell_type": "code",
      "execution_count": 68,
      "id": "5aa12a89-e360-4928-8130-d3560667365b",
      "metadata": {
        "id": "5aa12a89-e360-4928-8130-d3560667365b"
      },
      "outputs": [],
      "source": [
        "data1 = pd.read_csv('credit_score.csv', encoding='unicode_escape')\n",
        "\n",
        "df2 = data1.copy()"
      ]
    },
    {
      "cell_type": "code",
      "execution_count": 69,
      "id": "30945aaf-cca8-45d2-9e87-bbf5e3b35504",
      "metadata": {
        "colab": {
          "base_uri": "https://localhost:8080/",
          "height": 603
        },
        "id": "30945aaf-cca8-45d2-9e87-bbf5e3b35504",
        "outputId": "2ba42ae4-db9b-4874-febb-b73e6e06af74"
      },
      "outputs": [
        {
          "output_type": "execute_result",
          "data": {
            "text/plain": [
              "            id loan_amount funded_amount  funded_amount_invoice        term  \\\n",
              "119128  929437        8000          8000                 8000.0   36 months   \n",
              "88440   898750       20000         20000                20000.0   36 months   \n",
              "7878    818188       21000         21000                21000.0   36 months   \n",
              "97969   908279        8400          8400                 8400.0   36 months   \n",
              "16161   826471       20000         20000                20000.0   36 months   \n",
              "77000   887310       12000         12000                12000.0   60 months   \n",
              "128525  938833       10000         10000                10000.0   36 months   \n",
              "43690   854000       15000         15000                15000.0   60 months   \n",
              "45090   855400       12000         12000                12000.0   36 months   \n",
              "110213  920523        2000          2000                 2000.0   36 months   \n",
              "\n",
              "       interest_rate installment grade                     emploment_title  \\\n",
              "119128         15.59      279.64     C                         Salesperson   \n",
              "88440           5.32       602.3     A                      Police Officer   \n",
              "7878            7.91       657.2     A         Engineering Program Manager   \n",
              "97969          11.39      276.56     B            Licensed Practical Nurse   \n",
              "16161          16.99      712.96     D        Director of Student Services   \n",
              "77000          14.99      285.42     C                               Owner   \n",
              "128525         10.64      325.69     B                    Registered Nurse   \n",
              "43690          11.44      329.44     B                          Supervisor   \n",
              "45090           8.24      377.37     B                     Patent Attorney   \n",
              "110213         13.49       67.87     C  Undergraduate Admissions Counselor   \n",
              "\n",
              "       employment_length  ... delinq_2yrs  earliest_credit_line  \\\n",
              "119128          < 1 year  ...         0.0               39264.0   \n",
              "88440          10+ years  ...         0.0               32356.0   \n",
              "7878           10+ years  ...         0.0               36342.0   \n",
              "97969            4 years  ...         1.0               37653.0   \n",
              "16161          10+ years  ...         0.0               32051.0   \n",
              "77000            3 years  ...         0.0               37043.0   \n",
              "128525         10+ years  ...         0.0               35400.0   \n",
              "43690          10+ years  ...         0.0               37469.0   \n",
              "45090            3 years  ...         0.0               32417.0   \n",
              "110213           3 years  ...         0.0               36039.0   \n",
              "\n",
              "       inquiry_last_6mths open_accont public_record revolving_balance  \\\n",
              "119128                0.0         5.0           0.0            1502.0   \n",
              "88440                 0.0        21.0           0.0           49371.0   \n",
              "7878                  2.0         6.0           0.0            5833.0   \n",
              "97969                 0.0         7.0           0.0            3366.0   \n",
              "16161                 0.0        22.0           0.0           52730.0   \n",
              "77000                 0.0         5.0           1.0            8388.0   \n",
              "128525                0.0         8.0           1.0           12664.0   \n",
              "43690                 1.0        12.0           0.0           20896.0   \n",
              "45090                 0.0        17.0           0.0            9039.0   \n",
              "110213                0.0        15.0           0.0           26701.0   \n",
              "\n",
              "        revoling_utility  total_account  out_previously_reported_no_change  \\\n",
              "119128              21.5           17.0                                0.0   \n",
              "88440               51.4           38.0                                0.0   \n",
              "7878                29.2           16.0                                0.0   \n",
              "97969               73.2           17.0                                0.0   \n",
              "16161               45.2           35.0                                0.0   \n",
              "77000               72.9           18.0                                0.0   \n",
              "128525              33.1           20.0                                0.0   \n",
              "43690               45.0           22.0                                0.0   \n",
              "45090               39.5           44.0                                0.0   \n",
              "110213              58.3           19.0                                0.0   \n",
              "\n",
              "        total_paymnt  \n",
              "119128   4093.690000  \n",
              "88440   26761.505650  \n",
              "7878    23306.859740  \n",
              "97969    3638.092070  \n",
              "16161   36608.534780  \n",
              "77000   11088.386360  \n",
              "128525   1948.120000  \n",
              "43690   22198.748550  \n",
              "45090    7732.211554  \n",
              "110213  35993.495130  \n",
              "\n",
              "[10 rows x 27 columns]"
            ],
            "text/html": [
              "\n",
              "  <div id=\"df-d8d635f3-3a7f-4f1a-adee-cc9aa792589c\" class=\"colab-df-container\">\n",
              "    <div>\n",
              "<style scoped>\n",
              "    .dataframe tbody tr th:only-of-type {\n",
              "        vertical-align: middle;\n",
              "    }\n",
              "\n",
              "    .dataframe tbody tr th {\n",
              "        vertical-align: top;\n",
              "    }\n",
              "\n",
              "    .dataframe thead th {\n",
              "        text-align: right;\n",
              "    }\n",
              "</style>\n",
              "<table border=\"1\" class=\"dataframe\">\n",
              "  <thead>\n",
              "    <tr style=\"text-align: right;\">\n",
              "      <th></th>\n",
              "      <th>id</th>\n",
              "      <th>loan_amount</th>\n",
              "      <th>funded_amount</th>\n",
              "      <th>funded_amount_invoice</th>\n",
              "      <th>term</th>\n",
              "      <th>interest_rate</th>\n",
              "      <th>installment</th>\n",
              "      <th>grade</th>\n",
              "      <th>emploment_title</th>\n",
              "      <th>employment_length</th>\n",
              "      <th>...</th>\n",
              "      <th>delinq_2yrs</th>\n",
              "      <th>earliest_credit_line</th>\n",
              "      <th>inquiry_last_6mths</th>\n",
              "      <th>open_accont</th>\n",
              "      <th>public_record</th>\n",
              "      <th>revolving_balance</th>\n",
              "      <th>revoling_utility</th>\n",
              "      <th>total_account</th>\n",
              "      <th>out_previously_reported_no_change</th>\n",
              "      <th>total_paymnt</th>\n",
              "    </tr>\n",
              "  </thead>\n",
              "  <tbody>\n",
              "    <tr>\n",
              "      <th>119128</th>\n",
              "      <td>929437</td>\n",
              "      <td>8000</td>\n",
              "      <td>8000</td>\n",
              "      <td>8000.0</td>\n",
              "      <td>36 months</td>\n",
              "      <td>15.59</td>\n",
              "      <td>279.64</td>\n",
              "      <td>C</td>\n",
              "      <td>Salesperson</td>\n",
              "      <td>&lt; 1 year</td>\n",
              "      <td>...</td>\n",
              "      <td>0.0</td>\n",
              "      <td>39264.0</td>\n",
              "      <td>0.0</td>\n",
              "      <td>5.0</td>\n",
              "      <td>0.0</td>\n",
              "      <td>1502.0</td>\n",
              "      <td>21.5</td>\n",
              "      <td>17.0</td>\n",
              "      <td>0.0</td>\n",
              "      <td>4093.690000</td>\n",
              "    </tr>\n",
              "    <tr>\n",
              "      <th>88440</th>\n",
              "      <td>898750</td>\n",
              "      <td>20000</td>\n",
              "      <td>20000</td>\n",
              "      <td>20000.0</td>\n",
              "      <td>36 months</td>\n",
              "      <td>5.32</td>\n",
              "      <td>602.3</td>\n",
              "      <td>A</td>\n",
              "      <td>Police Officer</td>\n",
              "      <td>10+ years</td>\n",
              "      <td>...</td>\n",
              "      <td>0.0</td>\n",
              "      <td>32356.0</td>\n",
              "      <td>0.0</td>\n",
              "      <td>21.0</td>\n",
              "      <td>0.0</td>\n",
              "      <td>49371.0</td>\n",
              "      <td>51.4</td>\n",
              "      <td>38.0</td>\n",
              "      <td>0.0</td>\n",
              "      <td>26761.505650</td>\n",
              "    </tr>\n",
              "    <tr>\n",
              "      <th>7878</th>\n",
              "      <td>818188</td>\n",
              "      <td>21000</td>\n",
              "      <td>21000</td>\n",
              "      <td>21000.0</td>\n",
              "      <td>36 months</td>\n",
              "      <td>7.91</td>\n",
              "      <td>657.2</td>\n",
              "      <td>A</td>\n",
              "      <td>Engineering Program Manager</td>\n",
              "      <td>10+ years</td>\n",
              "      <td>...</td>\n",
              "      <td>0.0</td>\n",
              "      <td>36342.0</td>\n",
              "      <td>2.0</td>\n",
              "      <td>6.0</td>\n",
              "      <td>0.0</td>\n",
              "      <td>5833.0</td>\n",
              "      <td>29.2</td>\n",
              "      <td>16.0</td>\n",
              "      <td>0.0</td>\n",
              "      <td>23306.859740</td>\n",
              "    </tr>\n",
              "    <tr>\n",
              "      <th>97969</th>\n",
              "      <td>908279</td>\n",
              "      <td>8400</td>\n",
              "      <td>8400</td>\n",
              "      <td>8400.0</td>\n",
              "      <td>36 months</td>\n",
              "      <td>11.39</td>\n",
              "      <td>276.56</td>\n",
              "      <td>B</td>\n",
              "      <td>Licensed Practical Nurse</td>\n",
              "      <td>4 years</td>\n",
              "      <td>...</td>\n",
              "      <td>1.0</td>\n",
              "      <td>37653.0</td>\n",
              "      <td>0.0</td>\n",
              "      <td>7.0</td>\n",
              "      <td>0.0</td>\n",
              "      <td>3366.0</td>\n",
              "      <td>73.2</td>\n",
              "      <td>17.0</td>\n",
              "      <td>0.0</td>\n",
              "      <td>3638.092070</td>\n",
              "    </tr>\n",
              "    <tr>\n",
              "      <th>16161</th>\n",
              "      <td>826471</td>\n",
              "      <td>20000</td>\n",
              "      <td>20000</td>\n",
              "      <td>20000.0</td>\n",
              "      <td>36 months</td>\n",
              "      <td>16.99</td>\n",
              "      <td>712.96</td>\n",
              "      <td>D</td>\n",
              "      <td>Director of Student Services</td>\n",
              "      <td>10+ years</td>\n",
              "      <td>...</td>\n",
              "      <td>0.0</td>\n",
              "      <td>32051.0</td>\n",
              "      <td>0.0</td>\n",
              "      <td>22.0</td>\n",
              "      <td>0.0</td>\n",
              "      <td>52730.0</td>\n",
              "      <td>45.2</td>\n",
              "      <td>35.0</td>\n",
              "      <td>0.0</td>\n",
              "      <td>36608.534780</td>\n",
              "    </tr>\n",
              "    <tr>\n",
              "      <th>77000</th>\n",
              "      <td>887310</td>\n",
              "      <td>12000</td>\n",
              "      <td>12000</td>\n",
              "      <td>12000.0</td>\n",
              "      <td>60 months</td>\n",
              "      <td>14.99</td>\n",
              "      <td>285.42</td>\n",
              "      <td>C</td>\n",
              "      <td>Owner</td>\n",
              "      <td>3 years</td>\n",
              "      <td>...</td>\n",
              "      <td>0.0</td>\n",
              "      <td>37043.0</td>\n",
              "      <td>0.0</td>\n",
              "      <td>5.0</td>\n",
              "      <td>1.0</td>\n",
              "      <td>8388.0</td>\n",
              "      <td>72.9</td>\n",
              "      <td>18.0</td>\n",
              "      <td>0.0</td>\n",
              "      <td>11088.386360</td>\n",
              "    </tr>\n",
              "    <tr>\n",
              "      <th>128525</th>\n",
              "      <td>938833</td>\n",
              "      <td>10000</td>\n",
              "      <td>10000</td>\n",
              "      <td>10000.0</td>\n",
              "      <td>36 months</td>\n",
              "      <td>10.64</td>\n",
              "      <td>325.69</td>\n",
              "      <td>B</td>\n",
              "      <td>Registered Nurse</td>\n",
              "      <td>10+ years</td>\n",
              "      <td>...</td>\n",
              "      <td>0.0</td>\n",
              "      <td>35400.0</td>\n",
              "      <td>0.0</td>\n",
              "      <td>8.0</td>\n",
              "      <td>1.0</td>\n",
              "      <td>12664.0</td>\n",
              "      <td>33.1</td>\n",
              "      <td>20.0</td>\n",
              "      <td>0.0</td>\n",
              "      <td>1948.120000</td>\n",
              "    </tr>\n",
              "    <tr>\n",
              "      <th>43690</th>\n",
              "      <td>854000</td>\n",
              "      <td>15000</td>\n",
              "      <td>15000</td>\n",
              "      <td>15000.0</td>\n",
              "      <td>60 months</td>\n",
              "      <td>11.44</td>\n",
              "      <td>329.44</td>\n",
              "      <td>B</td>\n",
              "      <td>Supervisor</td>\n",
              "      <td>10+ years</td>\n",
              "      <td>...</td>\n",
              "      <td>0.0</td>\n",
              "      <td>37469.0</td>\n",
              "      <td>1.0</td>\n",
              "      <td>12.0</td>\n",
              "      <td>0.0</td>\n",
              "      <td>20896.0</td>\n",
              "      <td>45.0</td>\n",
              "      <td>22.0</td>\n",
              "      <td>0.0</td>\n",
              "      <td>22198.748550</td>\n",
              "    </tr>\n",
              "    <tr>\n",
              "      <th>45090</th>\n",
              "      <td>855400</td>\n",
              "      <td>12000</td>\n",
              "      <td>12000</td>\n",
              "      <td>12000.0</td>\n",
              "      <td>36 months</td>\n",
              "      <td>8.24</td>\n",
              "      <td>377.37</td>\n",
              "      <td>B</td>\n",
              "      <td>Patent Attorney</td>\n",
              "      <td>3 years</td>\n",
              "      <td>...</td>\n",
              "      <td>0.0</td>\n",
              "      <td>32417.0</td>\n",
              "      <td>0.0</td>\n",
              "      <td>17.0</td>\n",
              "      <td>0.0</td>\n",
              "      <td>9039.0</td>\n",
              "      <td>39.5</td>\n",
              "      <td>44.0</td>\n",
              "      <td>0.0</td>\n",
              "      <td>7732.211554</td>\n",
              "    </tr>\n",
              "    <tr>\n",
              "      <th>110213</th>\n",
              "      <td>920523</td>\n",
              "      <td>2000</td>\n",
              "      <td>2000</td>\n",
              "      <td>2000.0</td>\n",
              "      <td>36 months</td>\n",
              "      <td>13.49</td>\n",
              "      <td>67.87</td>\n",
              "      <td>C</td>\n",
              "      <td>Undergraduate Admissions Counselor</td>\n",
              "      <td>3 years</td>\n",
              "      <td>...</td>\n",
              "      <td>0.0</td>\n",
              "      <td>36039.0</td>\n",
              "      <td>0.0</td>\n",
              "      <td>15.0</td>\n",
              "      <td>0.0</td>\n",
              "      <td>26701.0</td>\n",
              "      <td>58.3</td>\n",
              "      <td>19.0</td>\n",
              "      <td>0.0</td>\n",
              "      <td>35993.495130</td>\n",
              "    </tr>\n",
              "  </tbody>\n",
              "</table>\n",
              "<p>10 rows × 27 columns</p>\n",
              "</div>\n",
              "    <div class=\"colab-df-buttons\">\n",
              "\n",
              "  <div class=\"colab-df-container\">\n",
              "    <button class=\"colab-df-convert\" onclick=\"convertToInteractive('df-d8d635f3-3a7f-4f1a-adee-cc9aa792589c')\"\n",
              "            title=\"Convert this dataframe to an interactive table.\"\n",
              "            style=\"display:none;\">\n",
              "\n",
              "  <svg xmlns=\"http://www.w3.org/2000/svg\" height=\"24px\" viewBox=\"0 -960 960 960\">\n",
              "    <path d=\"M120-120v-720h720v720H120Zm60-500h600v-160H180v160Zm220 220h160v-160H400v160Zm0 220h160v-160H400v160ZM180-400h160v-160H180v160Zm440 0h160v-160H620v160ZM180-180h160v-160H180v160Zm440 0h160v-160H620v160Z\"/>\n",
              "  </svg>\n",
              "    </button>\n",
              "\n",
              "  <style>\n",
              "    .colab-df-container {\n",
              "      display:flex;\n",
              "      gap: 12px;\n",
              "    }\n",
              "\n",
              "    .colab-df-convert {\n",
              "      background-color: #E8F0FE;\n",
              "      border: none;\n",
              "      border-radius: 50%;\n",
              "      cursor: pointer;\n",
              "      display: none;\n",
              "      fill: #1967D2;\n",
              "      height: 32px;\n",
              "      padding: 0 0 0 0;\n",
              "      width: 32px;\n",
              "    }\n",
              "\n",
              "    .colab-df-convert:hover {\n",
              "      background-color: #E2EBFA;\n",
              "      box-shadow: 0px 1px 2px rgba(60, 64, 67, 0.3), 0px 1px 3px 1px rgba(60, 64, 67, 0.15);\n",
              "      fill: #174EA6;\n",
              "    }\n",
              "\n",
              "    .colab-df-buttons div {\n",
              "      margin-bottom: 4px;\n",
              "    }\n",
              "\n",
              "    [theme=dark] .colab-df-convert {\n",
              "      background-color: #3B4455;\n",
              "      fill: #D2E3FC;\n",
              "    }\n",
              "\n",
              "    [theme=dark] .colab-df-convert:hover {\n",
              "      background-color: #434B5C;\n",
              "      box-shadow: 0px 1px 3px 1px rgba(0, 0, 0, 0.15);\n",
              "      filter: drop-shadow(0px 1px 2px rgba(0, 0, 0, 0.3));\n",
              "      fill: #FFFFFF;\n",
              "    }\n",
              "  </style>\n",
              "\n",
              "    <script>\n",
              "      const buttonEl =\n",
              "        document.querySelector('#df-d8d635f3-3a7f-4f1a-adee-cc9aa792589c button.colab-df-convert');\n",
              "      buttonEl.style.display =\n",
              "        google.colab.kernel.accessAllowed ? 'block' : 'none';\n",
              "\n",
              "      async function convertToInteractive(key) {\n",
              "        const element = document.querySelector('#df-d8d635f3-3a7f-4f1a-adee-cc9aa792589c');\n",
              "        const dataTable =\n",
              "          await google.colab.kernel.invokeFunction('convertToInteractive',\n",
              "                                                    [key], {});\n",
              "        if (!dataTable) return;\n",
              "\n",
              "        const docLinkHtml = 'Like what you see? Visit the ' +\n",
              "          '<a target=\"_blank\" href=https://colab.research.google.com/notebooks/data_table.ipynb>data table notebook</a>'\n",
              "          + ' to learn more about interactive tables.';\n",
              "        element.innerHTML = '';\n",
              "        dataTable['output_type'] = 'display_data';\n",
              "        await google.colab.output.renderOutput(dataTable, element);\n",
              "        const docLink = document.createElement('div');\n",
              "        docLink.innerHTML = docLinkHtml;\n",
              "        element.appendChild(docLink);\n",
              "      }\n",
              "    </script>\n",
              "  </div>\n",
              "\n",
              "\n",
              "<div id=\"df-103d8be5-af11-4571-b921-6a3e5fe0c85b\">\n",
              "  <button class=\"colab-df-quickchart\" onclick=\"quickchart('df-103d8be5-af11-4571-b921-6a3e5fe0c85b')\"\n",
              "            title=\"Suggest charts\"\n",
              "            style=\"display:none;\">\n",
              "\n",
              "<svg xmlns=\"http://www.w3.org/2000/svg\" height=\"24px\"viewBox=\"0 0 24 24\"\n",
              "     width=\"24px\">\n",
              "    <g>\n",
              "        <path d=\"M19 3H5c-1.1 0-2 .9-2 2v14c0 1.1.9 2 2 2h14c1.1 0 2-.9 2-2V5c0-1.1-.9-2-2-2zM9 17H7v-7h2v7zm4 0h-2V7h2v10zm4 0h-2v-4h2v4z\"/>\n",
              "    </g>\n",
              "</svg>\n",
              "  </button>\n",
              "\n",
              "<style>\n",
              "  .colab-df-quickchart {\n",
              "      --bg-color: #E8F0FE;\n",
              "      --fill-color: #1967D2;\n",
              "      --hover-bg-color: #E2EBFA;\n",
              "      --hover-fill-color: #174EA6;\n",
              "      --disabled-fill-color: #AAA;\n",
              "      --disabled-bg-color: #DDD;\n",
              "  }\n",
              "\n",
              "  [theme=dark] .colab-df-quickchart {\n",
              "      --bg-color: #3B4455;\n",
              "      --fill-color: #D2E3FC;\n",
              "      --hover-bg-color: #434B5C;\n",
              "      --hover-fill-color: #FFFFFF;\n",
              "      --disabled-bg-color: #3B4455;\n",
              "      --disabled-fill-color: #666;\n",
              "  }\n",
              "\n",
              "  .colab-df-quickchart {\n",
              "    background-color: var(--bg-color);\n",
              "    border: none;\n",
              "    border-radius: 50%;\n",
              "    cursor: pointer;\n",
              "    display: none;\n",
              "    fill: var(--fill-color);\n",
              "    height: 32px;\n",
              "    padding: 0;\n",
              "    width: 32px;\n",
              "  }\n",
              "\n",
              "  .colab-df-quickchart:hover {\n",
              "    background-color: var(--hover-bg-color);\n",
              "    box-shadow: 0 1px 2px rgba(60, 64, 67, 0.3), 0 1px 3px 1px rgba(60, 64, 67, 0.15);\n",
              "    fill: var(--button-hover-fill-color);\n",
              "  }\n",
              "\n",
              "  .colab-df-quickchart-complete:disabled,\n",
              "  .colab-df-quickchart-complete:disabled:hover {\n",
              "    background-color: var(--disabled-bg-color);\n",
              "    fill: var(--disabled-fill-color);\n",
              "    box-shadow: none;\n",
              "  }\n",
              "\n",
              "  .colab-df-spinner {\n",
              "    border: 2px solid var(--fill-color);\n",
              "    border-color: transparent;\n",
              "    border-bottom-color: var(--fill-color);\n",
              "    animation:\n",
              "      spin 1s steps(1) infinite;\n",
              "  }\n",
              "\n",
              "  @keyframes spin {\n",
              "    0% {\n",
              "      border-color: transparent;\n",
              "      border-bottom-color: var(--fill-color);\n",
              "      border-left-color: var(--fill-color);\n",
              "    }\n",
              "    20% {\n",
              "      border-color: transparent;\n",
              "      border-left-color: var(--fill-color);\n",
              "      border-top-color: var(--fill-color);\n",
              "    }\n",
              "    30% {\n",
              "      border-color: transparent;\n",
              "      border-left-color: var(--fill-color);\n",
              "      border-top-color: var(--fill-color);\n",
              "      border-right-color: var(--fill-color);\n",
              "    }\n",
              "    40% {\n",
              "      border-color: transparent;\n",
              "      border-right-color: var(--fill-color);\n",
              "      border-top-color: var(--fill-color);\n",
              "    }\n",
              "    60% {\n",
              "      border-color: transparent;\n",
              "      border-right-color: var(--fill-color);\n",
              "    }\n",
              "    80% {\n",
              "      border-color: transparent;\n",
              "      border-right-color: var(--fill-color);\n",
              "      border-bottom-color: var(--fill-color);\n",
              "    }\n",
              "    90% {\n",
              "      border-color: transparent;\n",
              "      border-bottom-color: var(--fill-color);\n",
              "    }\n",
              "  }\n",
              "</style>\n",
              "\n",
              "  <script>\n",
              "    async function quickchart(key) {\n",
              "      const quickchartButtonEl =\n",
              "        document.querySelector('#' + key + ' button');\n",
              "      quickchartButtonEl.disabled = true;  // To prevent multiple clicks.\n",
              "      quickchartButtonEl.classList.add('colab-df-spinner');\n",
              "      try {\n",
              "        const charts = await google.colab.kernel.invokeFunction(\n",
              "            'suggestCharts', [key], {});\n",
              "      } catch (error) {\n",
              "        console.error('Error during call to suggestCharts:', error);\n",
              "      }\n",
              "      quickchartButtonEl.classList.remove('colab-df-spinner');\n",
              "      quickchartButtonEl.classList.add('colab-df-quickchart-complete');\n",
              "    }\n",
              "    (() => {\n",
              "      let quickchartButtonEl =\n",
              "        document.querySelector('#df-103d8be5-af11-4571-b921-6a3e5fe0c85b button');\n",
              "      quickchartButtonEl.style.display =\n",
              "        google.colab.kernel.accessAllowed ? 'block' : 'none';\n",
              "    })();\n",
              "  </script>\n",
              "</div>\n",
              "\n",
              "    </div>\n",
              "  </div>\n"
            ],
            "application/vnd.google.colaboratory.intrinsic+json": {
              "type": "dataframe"
            }
          },
          "metadata": {},
          "execution_count": 69
        }
      ],
      "source": [
        "df2.sample(10)"
      ]
    },
    {
      "cell_type": "code",
      "execution_count": 70,
      "id": "6c4fec4b-b178-49b2-b82f-065c02bc86ea",
      "metadata": {
        "colab": {
          "base_uri": "https://localhost:8080/"
        },
        "id": "6c4fec4b-b178-49b2-b82f-065c02bc86ea",
        "outputId": "b8565e7b-925c-48e3-ad54-ccc119d852a2"
      },
      "outputs": [
        {
          "output_type": "execute_result",
          "data": {
            "text/plain": [
              "(134600, 27)"
            ]
          },
          "metadata": {},
          "execution_count": 70
        }
      ],
      "source": [
        "df2.shape"
      ]
    },
    {
      "cell_type": "code",
      "execution_count": 71,
      "id": "bbcc5ff8-4632-4e75-9484-dbf888ce5746",
      "metadata": {
        "colab": {
          "base_uri": "https://localhost:8080/"
        },
        "id": "bbcc5ff8-4632-4e75-9484-dbf888ce5746",
        "outputId": "80a3b286-d374-4796-eb46-261c7a9d2262"
      },
      "outputs": [
        {
          "output_type": "stream",
          "name": "stdout",
          "text": [
            "<class 'pandas.core.frame.DataFrame'>\n",
            "RangeIndex: 134600 entries, 0 to 134599\n",
            "Data columns (total 27 columns):\n",
            " #   Column                             Non-Null Count   Dtype  \n",
            "---  ------                             --------------   -----  \n",
            " 0   id                                 134600 non-null  object \n",
            " 1   loan_amount                        134600 non-null  object \n",
            " 2   funded_amount                      134600 non-null  object \n",
            " 3   funded_amount_invoice              134600 non-null  float64\n",
            " 4   term                               134600 non-null  object \n",
            " 5   interest_rate                      134600 non-null  object \n",
            " 6   installment                        134600 non-null  object \n",
            " 7   grade                              134600 non-null  object \n",
            " 8   emploment_title                    125579 non-null  object \n",
            " 9   employment_length                  125769 non-null  object \n",
            " 10  home_ownership                     134598 non-null  object \n",
            " 11  annual_income                      134598 non-null  float64\n",
            " 12  verification_status                134598 non-null  object \n",
            " 13  issue_date                         134598 non-null  object \n",
            " 14  purpose                            134598 non-null  object \n",
            " 15  address_state                      134598 non-null  object \n",
            " 16  debt_to_income                     134570 non-null  float64\n",
            " 17  delinq_2yrs                        134598 non-null  float64\n",
            " 18  earliest_credit_line               134598 non-null  float64\n",
            " 19  inquiry_last_6mths                 134596 non-null  float64\n",
            " 20  open_accont                        134596 non-null  float64\n",
            " 21  public_record                      134596 non-null  float64\n",
            " 22  revolving_balance                  134596 non-null  float64\n",
            " 23  revoling_utility                   134510 non-null  float64\n",
            " 24  total_account                      134596 non-null  float64\n",
            " 25  out_previously_reported_no_change  134596 non-null  float64\n",
            " 26  total_paymnt                       134596 non-null  float64\n",
            "dtypes: float64(13), object(14)\n",
            "memory usage: 27.7+ MB\n"
          ]
        }
      ],
      "source": [
        "df2.info()"
      ]
    },
    {
      "cell_type": "code",
      "execution_count": 72,
      "id": "09f0d149-cc0a-4676-91c3-038d1c984d98",
      "metadata": {
        "colab": {
          "base_uri": "https://localhost:8080/",
          "height": 320
        },
        "id": "09f0d149-cc0a-4676-91c3-038d1c984d98",
        "outputId": "31278749-f1e6-43b6-ba73-1498147cb593"
      },
      "outputs": [
        {
          "output_type": "execute_result",
          "data": {
            "text/plain": [
              "       funded_amount_invoice  annual_income  debt_to_income    delinq_2yrs  \\\n",
              "count          134600.000000   1.345980e+05   134570.000000  134598.000000   \n",
              "mean            14477.763611   8.090737e+04       18.451231       0.337546   \n",
              "std              9148.585621   7.626579e+04       10.923949       0.913274   \n",
              "min               950.000000   0.000000e+00        0.000000       0.000000   \n",
              "25%              7200.000000   4.861025e+04       11.870000       0.000000   \n",
              "50%             12000.000000   6.800000e+04       17.810000       0.000000   \n",
              "75%             20000.000000   9.600000e+04       24.380000       0.000000   \n",
              "max             54000.000000   7.000055e+06      999.000000      30.000000   \n",
              "\n",
              "       earliest_credit_line  inquiry_last_6mths    open_accont  public_record  \\\n",
              "count         134598.000000       134596.000000  134596.000000  134596.000000   \n",
              "mean           36379.518324            0.572394      11.702948       0.245104   \n",
              "std             2820.634157            0.863686       5.656166       0.649003   \n",
              "min             8388.410000            0.000000       0.000000       0.000000   \n",
              "25%            34912.000000            0.000000       8.000000       0.000000   \n",
              "50%            36923.000000            0.000000      11.000000       0.000000   \n",
              "75%            38292.000000            1.000000      15.000000       0.000000   \n",
              "max            42217.000000            5.000000      66.000000      28.000000   \n",
              "\n",
              "       revolving_balance  revoling_utility  total_account  \\\n",
              "count      134596.000000     134510.000000  134596.000000   \n",
              "mean        16658.177472         49.558947      24.833190   \n",
              "std         23740.071002         24.437711      12.121829   \n",
              "min             0.000000          0.000000       2.000000   \n",
              "25%          5772.000000         31.000000      16.000000   \n",
              "50%         10872.000000         48.900000      23.000000   \n",
              "75%         19716.250000         68.000000      32.000000   \n",
              "max        898146.000000        152.500000     135.000000   \n",
              "\n",
              "       out_previously_reported_no_change   total_paymnt  \n",
              "count                           134596.0  134596.000000  \n",
              "mean                                 0.0   15037.577774  \n",
              "std                                  0.0   10367.189161  \n",
              "min                                  0.0       0.000000  \n",
              "25%                                  0.0    6882.803008  \n",
              "50%                                  0.0   12545.918810  \n",
              "75%                                  0.0   21219.581825  \n",
              "max                                  0.0   59571.664550  "
            ],
            "text/html": [
              "\n",
              "  <div id=\"df-6ed44a91-4179-42b8-bb1f-7aca182a7002\" class=\"colab-df-container\">\n",
              "    <div>\n",
              "<style scoped>\n",
              "    .dataframe tbody tr th:only-of-type {\n",
              "        vertical-align: middle;\n",
              "    }\n",
              "\n",
              "    .dataframe tbody tr th {\n",
              "        vertical-align: top;\n",
              "    }\n",
              "\n",
              "    .dataframe thead th {\n",
              "        text-align: right;\n",
              "    }\n",
              "</style>\n",
              "<table border=\"1\" class=\"dataframe\">\n",
              "  <thead>\n",
              "    <tr style=\"text-align: right;\">\n",
              "      <th></th>\n",
              "      <th>funded_amount_invoice</th>\n",
              "      <th>annual_income</th>\n",
              "      <th>debt_to_income</th>\n",
              "      <th>delinq_2yrs</th>\n",
              "      <th>earliest_credit_line</th>\n",
              "      <th>inquiry_last_6mths</th>\n",
              "      <th>open_accont</th>\n",
              "      <th>public_record</th>\n",
              "      <th>revolving_balance</th>\n",
              "      <th>revoling_utility</th>\n",
              "      <th>total_account</th>\n",
              "      <th>out_previously_reported_no_change</th>\n",
              "      <th>total_paymnt</th>\n",
              "    </tr>\n",
              "  </thead>\n",
              "  <tbody>\n",
              "    <tr>\n",
              "      <th>count</th>\n",
              "      <td>134600.000000</td>\n",
              "      <td>1.345980e+05</td>\n",
              "      <td>134570.000000</td>\n",
              "      <td>134598.000000</td>\n",
              "      <td>134598.000000</td>\n",
              "      <td>134596.000000</td>\n",
              "      <td>134596.000000</td>\n",
              "      <td>134596.000000</td>\n",
              "      <td>134596.000000</td>\n",
              "      <td>134510.000000</td>\n",
              "      <td>134596.000000</td>\n",
              "      <td>134596.0</td>\n",
              "      <td>134596.000000</td>\n",
              "    </tr>\n",
              "    <tr>\n",
              "      <th>mean</th>\n",
              "      <td>14477.763611</td>\n",
              "      <td>8.090737e+04</td>\n",
              "      <td>18.451231</td>\n",
              "      <td>0.337546</td>\n",
              "      <td>36379.518324</td>\n",
              "      <td>0.572394</td>\n",
              "      <td>11.702948</td>\n",
              "      <td>0.245104</td>\n",
              "      <td>16658.177472</td>\n",
              "      <td>49.558947</td>\n",
              "      <td>24.833190</td>\n",
              "      <td>0.0</td>\n",
              "      <td>15037.577774</td>\n",
              "    </tr>\n",
              "    <tr>\n",
              "      <th>std</th>\n",
              "      <td>9148.585621</td>\n",
              "      <td>7.626579e+04</td>\n",
              "      <td>10.923949</td>\n",
              "      <td>0.913274</td>\n",
              "      <td>2820.634157</td>\n",
              "      <td>0.863686</td>\n",
              "      <td>5.656166</td>\n",
              "      <td>0.649003</td>\n",
              "      <td>23740.071002</td>\n",
              "      <td>24.437711</td>\n",
              "      <td>12.121829</td>\n",
              "      <td>0.0</td>\n",
              "      <td>10367.189161</td>\n",
              "    </tr>\n",
              "    <tr>\n",
              "      <th>min</th>\n",
              "      <td>950.000000</td>\n",
              "      <td>0.000000e+00</td>\n",
              "      <td>0.000000</td>\n",
              "      <td>0.000000</td>\n",
              "      <td>8388.410000</td>\n",
              "      <td>0.000000</td>\n",
              "      <td>0.000000</td>\n",
              "      <td>0.000000</td>\n",
              "      <td>0.000000</td>\n",
              "      <td>0.000000</td>\n",
              "      <td>2.000000</td>\n",
              "      <td>0.0</td>\n",
              "      <td>0.000000</td>\n",
              "    </tr>\n",
              "    <tr>\n",
              "      <th>25%</th>\n",
              "      <td>7200.000000</td>\n",
              "      <td>4.861025e+04</td>\n",
              "      <td>11.870000</td>\n",
              "      <td>0.000000</td>\n",
              "      <td>34912.000000</td>\n",
              "      <td>0.000000</td>\n",
              "      <td>8.000000</td>\n",
              "      <td>0.000000</td>\n",
              "      <td>5772.000000</td>\n",
              "      <td>31.000000</td>\n",
              "      <td>16.000000</td>\n",
              "      <td>0.0</td>\n",
              "      <td>6882.803008</td>\n",
              "    </tr>\n",
              "    <tr>\n",
              "      <th>50%</th>\n",
              "      <td>12000.000000</td>\n",
              "      <td>6.800000e+04</td>\n",
              "      <td>17.810000</td>\n",
              "      <td>0.000000</td>\n",
              "      <td>36923.000000</td>\n",
              "      <td>0.000000</td>\n",
              "      <td>11.000000</td>\n",
              "      <td>0.000000</td>\n",
              "      <td>10872.000000</td>\n",
              "      <td>48.900000</td>\n",
              "      <td>23.000000</td>\n",
              "      <td>0.0</td>\n",
              "      <td>12545.918810</td>\n",
              "    </tr>\n",
              "    <tr>\n",
              "      <th>75%</th>\n",
              "      <td>20000.000000</td>\n",
              "      <td>9.600000e+04</td>\n",
              "      <td>24.380000</td>\n",
              "      <td>0.000000</td>\n",
              "      <td>38292.000000</td>\n",
              "      <td>1.000000</td>\n",
              "      <td>15.000000</td>\n",
              "      <td>0.000000</td>\n",
              "      <td>19716.250000</td>\n",
              "      <td>68.000000</td>\n",
              "      <td>32.000000</td>\n",
              "      <td>0.0</td>\n",
              "      <td>21219.581825</td>\n",
              "    </tr>\n",
              "    <tr>\n",
              "      <th>max</th>\n",
              "      <td>54000.000000</td>\n",
              "      <td>7.000055e+06</td>\n",
              "      <td>999.000000</td>\n",
              "      <td>30.000000</td>\n",
              "      <td>42217.000000</td>\n",
              "      <td>5.000000</td>\n",
              "      <td>66.000000</td>\n",
              "      <td>28.000000</td>\n",
              "      <td>898146.000000</td>\n",
              "      <td>152.500000</td>\n",
              "      <td>135.000000</td>\n",
              "      <td>0.0</td>\n",
              "      <td>59571.664550</td>\n",
              "    </tr>\n",
              "  </tbody>\n",
              "</table>\n",
              "</div>\n",
              "    <div class=\"colab-df-buttons\">\n",
              "\n",
              "  <div class=\"colab-df-container\">\n",
              "    <button class=\"colab-df-convert\" onclick=\"convertToInteractive('df-6ed44a91-4179-42b8-bb1f-7aca182a7002')\"\n",
              "            title=\"Convert this dataframe to an interactive table.\"\n",
              "            style=\"display:none;\">\n",
              "\n",
              "  <svg xmlns=\"http://www.w3.org/2000/svg\" height=\"24px\" viewBox=\"0 -960 960 960\">\n",
              "    <path d=\"M120-120v-720h720v720H120Zm60-500h600v-160H180v160Zm220 220h160v-160H400v160Zm0 220h160v-160H400v160ZM180-400h160v-160H180v160Zm440 0h160v-160H620v160ZM180-180h160v-160H180v160Zm440 0h160v-160H620v160Z\"/>\n",
              "  </svg>\n",
              "    </button>\n",
              "\n",
              "  <style>\n",
              "    .colab-df-container {\n",
              "      display:flex;\n",
              "      gap: 12px;\n",
              "    }\n",
              "\n",
              "    .colab-df-convert {\n",
              "      background-color: #E8F0FE;\n",
              "      border: none;\n",
              "      border-radius: 50%;\n",
              "      cursor: pointer;\n",
              "      display: none;\n",
              "      fill: #1967D2;\n",
              "      height: 32px;\n",
              "      padding: 0 0 0 0;\n",
              "      width: 32px;\n",
              "    }\n",
              "\n",
              "    .colab-df-convert:hover {\n",
              "      background-color: #E2EBFA;\n",
              "      box-shadow: 0px 1px 2px rgba(60, 64, 67, 0.3), 0px 1px 3px 1px rgba(60, 64, 67, 0.15);\n",
              "      fill: #174EA6;\n",
              "    }\n",
              "\n",
              "    .colab-df-buttons div {\n",
              "      margin-bottom: 4px;\n",
              "    }\n",
              "\n",
              "    [theme=dark] .colab-df-convert {\n",
              "      background-color: #3B4455;\n",
              "      fill: #D2E3FC;\n",
              "    }\n",
              "\n",
              "    [theme=dark] .colab-df-convert:hover {\n",
              "      background-color: #434B5C;\n",
              "      box-shadow: 0px 1px 3px 1px rgba(0, 0, 0, 0.15);\n",
              "      filter: drop-shadow(0px 1px 2px rgba(0, 0, 0, 0.3));\n",
              "      fill: #FFFFFF;\n",
              "    }\n",
              "  </style>\n",
              "\n",
              "    <script>\n",
              "      const buttonEl =\n",
              "        document.querySelector('#df-6ed44a91-4179-42b8-bb1f-7aca182a7002 button.colab-df-convert');\n",
              "      buttonEl.style.display =\n",
              "        google.colab.kernel.accessAllowed ? 'block' : 'none';\n",
              "\n",
              "      async function convertToInteractive(key) {\n",
              "        const element = document.querySelector('#df-6ed44a91-4179-42b8-bb1f-7aca182a7002');\n",
              "        const dataTable =\n",
              "          await google.colab.kernel.invokeFunction('convertToInteractive',\n",
              "                                                    [key], {});\n",
              "        if (!dataTable) return;\n",
              "\n",
              "        const docLinkHtml = 'Like what you see? Visit the ' +\n",
              "          '<a target=\"_blank\" href=https://colab.research.google.com/notebooks/data_table.ipynb>data table notebook</a>'\n",
              "          + ' to learn more about interactive tables.';\n",
              "        element.innerHTML = '';\n",
              "        dataTable['output_type'] = 'display_data';\n",
              "        await google.colab.output.renderOutput(dataTable, element);\n",
              "        const docLink = document.createElement('div');\n",
              "        docLink.innerHTML = docLinkHtml;\n",
              "        element.appendChild(docLink);\n",
              "      }\n",
              "    </script>\n",
              "  </div>\n",
              "\n",
              "\n",
              "<div id=\"df-2d647a42-d584-4875-8372-d97ed79c95c4\">\n",
              "  <button class=\"colab-df-quickchart\" onclick=\"quickchart('df-2d647a42-d584-4875-8372-d97ed79c95c4')\"\n",
              "            title=\"Suggest charts\"\n",
              "            style=\"display:none;\">\n",
              "\n",
              "<svg xmlns=\"http://www.w3.org/2000/svg\" height=\"24px\"viewBox=\"0 0 24 24\"\n",
              "     width=\"24px\">\n",
              "    <g>\n",
              "        <path d=\"M19 3H5c-1.1 0-2 .9-2 2v14c0 1.1.9 2 2 2h14c1.1 0 2-.9 2-2V5c0-1.1-.9-2-2-2zM9 17H7v-7h2v7zm4 0h-2V7h2v10zm4 0h-2v-4h2v4z\"/>\n",
              "    </g>\n",
              "</svg>\n",
              "  </button>\n",
              "\n",
              "<style>\n",
              "  .colab-df-quickchart {\n",
              "      --bg-color: #E8F0FE;\n",
              "      --fill-color: #1967D2;\n",
              "      --hover-bg-color: #E2EBFA;\n",
              "      --hover-fill-color: #174EA6;\n",
              "      --disabled-fill-color: #AAA;\n",
              "      --disabled-bg-color: #DDD;\n",
              "  }\n",
              "\n",
              "  [theme=dark] .colab-df-quickchart {\n",
              "      --bg-color: #3B4455;\n",
              "      --fill-color: #D2E3FC;\n",
              "      --hover-bg-color: #434B5C;\n",
              "      --hover-fill-color: #FFFFFF;\n",
              "      --disabled-bg-color: #3B4455;\n",
              "      --disabled-fill-color: #666;\n",
              "  }\n",
              "\n",
              "  .colab-df-quickchart {\n",
              "    background-color: var(--bg-color);\n",
              "    border: none;\n",
              "    border-radius: 50%;\n",
              "    cursor: pointer;\n",
              "    display: none;\n",
              "    fill: var(--fill-color);\n",
              "    height: 32px;\n",
              "    padding: 0;\n",
              "    width: 32px;\n",
              "  }\n",
              "\n",
              "  .colab-df-quickchart:hover {\n",
              "    background-color: var(--hover-bg-color);\n",
              "    box-shadow: 0 1px 2px rgba(60, 64, 67, 0.3), 0 1px 3px 1px rgba(60, 64, 67, 0.15);\n",
              "    fill: var(--button-hover-fill-color);\n",
              "  }\n",
              "\n",
              "  .colab-df-quickchart-complete:disabled,\n",
              "  .colab-df-quickchart-complete:disabled:hover {\n",
              "    background-color: var(--disabled-bg-color);\n",
              "    fill: var(--disabled-fill-color);\n",
              "    box-shadow: none;\n",
              "  }\n",
              "\n",
              "  .colab-df-spinner {\n",
              "    border: 2px solid var(--fill-color);\n",
              "    border-color: transparent;\n",
              "    border-bottom-color: var(--fill-color);\n",
              "    animation:\n",
              "      spin 1s steps(1) infinite;\n",
              "  }\n",
              "\n",
              "  @keyframes spin {\n",
              "    0% {\n",
              "      border-color: transparent;\n",
              "      border-bottom-color: var(--fill-color);\n",
              "      border-left-color: var(--fill-color);\n",
              "    }\n",
              "    20% {\n",
              "      border-color: transparent;\n",
              "      border-left-color: var(--fill-color);\n",
              "      border-top-color: var(--fill-color);\n",
              "    }\n",
              "    30% {\n",
              "      border-color: transparent;\n",
              "      border-left-color: var(--fill-color);\n",
              "      border-top-color: var(--fill-color);\n",
              "      border-right-color: var(--fill-color);\n",
              "    }\n",
              "    40% {\n",
              "      border-color: transparent;\n",
              "      border-right-color: var(--fill-color);\n",
              "      border-top-color: var(--fill-color);\n",
              "    }\n",
              "    60% {\n",
              "      border-color: transparent;\n",
              "      border-right-color: var(--fill-color);\n",
              "    }\n",
              "    80% {\n",
              "      border-color: transparent;\n",
              "      border-right-color: var(--fill-color);\n",
              "      border-bottom-color: var(--fill-color);\n",
              "    }\n",
              "    90% {\n",
              "      border-color: transparent;\n",
              "      border-bottom-color: var(--fill-color);\n",
              "    }\n",
              "  }\n",
              "</style>\n",
              "\n",
              "  <script>\n",
              "    async function quickchart(key) {\n",
              "      const quickchartButtonEl =\n",
              "        document.querySelector('#' + key + ' button');\n",
              "      quickchartButtonEl.disabled = true;  // To prevent multiple clicks.\n",
              "      quickchartButtonEl.classList.add('colab-df-spinner');\n",
              "      try {\n",
              "        const charts = await google.colab.kernel.invokeFunction(\n",
              "            'suggestCharts', [key], {});\n",
              "      } catch (error) {\n",
              "        console.error('Error during call to suggestCharts:', error);\n",
              "      }\n",
              "      quickchartButtonEl.classList.remove('colab-df-spinner');\n",
              "      quickchartButtonEl.classList.add('colab-df-quickchart-complete');\n",
              "    }\n",
              "    (() => {\n",
              "      let quickchartButtonEl =\n",
              "        document.querySelector('#df-2d647a42-d584-4875-8372-d97ed79c95c4 button');\n",
              "      quickchartButtonEl.style.display =\n",
              "        google.colab.kernel.accessAllowed ? 'block' : 'none';\n",
              "    })();\n",
              "  </script>\n",
              "</div>\n",
              "\n",
              "    </div>\n",
              "  </div>\n"
            ],
            "application/vnd.google.colaboratory.intrinsic+json": {
              "type": "dataframe",
              "summary": "{\n  \"name\": \"df2\",\n  \"rows\": 8,\n  \"fields\": [\n    {\n      \"column\": \"funded_amount_invoice\",\n      \"properties\": {\n        \"dtype\": \"number\",\n        \"std\": 44659.78864321964,\n        \"min\": 950.0,\n        \"max\": 134600.0,\n        \"num_unique_values\": 8,\n        \"samples\": [\n          14477.763610724858,\n          12000.0,\n          134600.0\n        ],\n        \"semantic_type\": \"\",\n        \"description\": \"\"\n      }\n    },\n    {\n      \"column\": \"annual_income\",\n      \"properties\": {\n        \"dtype\": \"number\",\n        \"std\": 2449719.555745596,\n        \"min\": 0.0,\n        \"max\": 7000055.0,\n        \"num_unique_values\": 8,\n        \"samples\": [\n          80907.37272931248,\n          68000.0,\n          134598.0\n        ],\n        \"semantic_type\": \"\",\n        \"description\": \"\"\n      }\n    },\n    {\n      \"column\": \"debt_to_income\",\n      \"properties\": {\n        \"dtype\": \"number\",\n        \"std\": 47524.25924418211,\n        \"min\": 0.0,\n        \"max\": 134570.0,\n        \"num_unique_values\": 8,\n        \"samples\": [\n          18.45123147804117,\n          17.81,\n          134570.0\n        ],\n        \"semantic_type\": \"\",\n        \"description\": \"\"\n      }\n    },\n    {\n      \"column\": \"delinq_2yrs\",\n      \"properties\": {\n        \"dtype\": \"number\",\n        \"std\": 47586.002005245275,\n        \"min\": 0.0,\n        \"max\": 134598.0,\n        \"num_unique_values\": 5,\n        \"samples\": [\n          0.33754587735330394,\n          30.0,\n          0.9132741596379028\n        ],\n        \"semantic_type\": \"\",\n        \"description\": \"\"\n      }\n    },\n    {\n      \"column\": \"earliest_credit_line\",\n      \"properties\": {\n        \"dtype\": \"number\",\n        \"std\": 40285.20328963454,\n        \"min\": 2820.6341572284095,\n        \"max\": 134598.0,\n        \"num_unique_values\": 8,\n        \"samples\": [\n          36379.51832419501,\n          36923.0,\n          134598.0\n        ],\n        \"semantic_type\": \"\",\n        \"description\": \"\"\n      }\n    },\n    {\n      \"column\": \"inquiry_last_6mths\",\n      \"properties\": {\n        \"dtype\": \"number\",\n        \"std\": 47586.49661030031,\n        \"min\": 0.0,\n        \"max\": 134596.0,\n        \"num_unique_values\": 6,\n        \"samples\": [\n          134596.0,\n          0.5723944247971708,\n          5.0\n        ],\n        \"semantic_type\": \"\",\n        \"description\": \"\"\n      }\n    },\n    {\n      \"column\": \"open_accont\",\n      \"properties\": {\n        \"dtype\": \"number\",\n        \"std\": 47580.949084530555,\n        \"min\": 0.0,\n        \"max\": 134596.0,\n        \"num_unique_values\": 8,\n        \"samples\": [\n          11.702948081666618,\n          11.0,\n          134596.0\n        ],\n        \"semantic_type\": \"\",\n        \"description\": \"\"\n      }\n    },\n    {\n      \"column\": \"public_record\",\n      \"properties\": {\n        \"dtype\": \"number\",\n        \"std\": 47585.41378605446,\n        \"min\": 0.0,\n        \"max\": 134596.0,\n        \"num_unique_values\": 5,\n        \"samples\": [\n          0.2451038663853309,\n          28.0,\n          0.6490027180329352\n        ],\n        \"semantic_type\": \"\",\n        \"description\": \"\"\n      }\n    },\n    {\n      \"column\": \"revolving_balance\",\n      \"properties\": {\n        \"dtype\": \"number\",\n        \"std\": 309905.4541878612,\n        \"min\": 0.0,\n        \"max\": 898146.0,\n        \"num_unique_values\": 8,\n        \"samples\": [\n          16658.17747184166,\n          10872.0,\n          134596.0\n        ],\n        \"semantic_type\": \"\",\n        \"description\": \"\"\n      }\n    },\n    {\n      \"column\": \"revoling_utility\",\n      \"properties\": {\n        \"dtype\": \"number\",\n        \"std\": 47537.578110084316,\n        \"min\": 0.0,\n        \"max\": 134510.0,\n        \"num_unique_values\": 8,\n        \"samples\": [\n          49.5589472901643,\n          48.9,\n          134510.0\n        ],\n        \"semantic_type\": \"\",\n        \"description\": \"\"\n      }\n    },\n    {\n      \"column\": \"total_account\",\n      \"properties\": {\n        \"dtype\": \"number\",\n        \"std\": 47574.51842533614,\n        \"min\": 2.0,\n        \"max\": 134596.0,\n        \"num_unique_values\": 8,\n        \"samples\": [\n          24.833189693601593,\n          23.0,\n          134596.0\n        ],\n        \"semantic_type\": \"\",\n        \"description\": \"\"\n      }\n    },\n    {\n      \"column\": \"out_previously_reported_no_change\",\n      \"properties\": {\n        \"dtype\": \"number\",\n        \"std\": 47586.872160292274,\n        \"min\": 0.0,\n        \"max\": 134596.0,\n        \"num_unique_values\": 2,\n        \"samples\": [\n          0.0,\n          134596.0\n        ],\n        \"semantic_type\": \"\",\n        \"description\": \"\"\n      }\n    },\n    {\n      \"column\": \"total_paymnt\",\n      \"properties\": {\n        \"dtype\": \"number\",\n        \"std\": 45022.47633082679,\n        \"min\": 0.0,\n        \"max\": 134596.0,\n        \"num_unique_values\": 8,\n        \"samples\": [\n          15037.57777420775,\n          12545.91881\n        ],\n        \"semantic_type\": \"\",\n        \"description\": \"\"\n      }\n    }\n  ]\n}"
            }
          },
          "metadata": {},
          "execution_count": 72
        }
      ],
      "source": [
        "df2.describe()"
      ]
    },
    {
      "cell_type": "code",
      "execution_count": 73,
      "id": "5277826e-a771-43bb-ab7e-fc5830a1633e",
      "metadata": {
        "colab": {
          "base_uri": "https://localhost:8080/",
          "height": 931
        },
        "id": "5277826e-a771-43bb-ab7e-fc5830a1633e",
        "outputId": "a6487a45-0410-41c6-8120-d10ee663741a"
      },
      "outputs": [
        {
          "output_type": "execute_result",
          "data": {
            "text/plain": [
              "id                                      0\n",
              "loan_amount                             0\n",
              "funded_amount                           0\n",
              "funded_amount_invoice                   0\n",
              "term                                    0\n",
              "interest_rate                           0\n",
              "installment                             0\n",
              "grade                                   0\n",
              "emploment_title                      9021\n",
              "employment_length                    8831\n",
              "home_ownership                          2\n",
              "annual_income                           2\n",
              "verification_status                     2\n",
              "issue_date                              2\n",
              "purpose                                 2\n",
              "address_state                           2\n",
              "debt_to_income                         30\n",
              "delinq_2yrs                             2\n",
              "earliest_credit_line                    2\n",
              "inquiry_last_6mths                      4\n",
              "open_accont                             4\n",
              "public_record                           4\n",
              "revolving_balance                       4\n",
              "revoling_utility                       90\n",
              "total_account                           4\n",
              "out_previously_reported_no_change       4\n",
              "total_paymnt                            4\n",
              "dtype: int64"
            ],
            "text/html": [
              "<div>\n",
              "<style scoped>\n",
              "    .dataframe tbody tr th:only-of-type {\n",
              "        vertical-align: middle;\n",
              "    }\n",
              "\n",
              "    .dataframe tbody tr th {\n",
              "        vertical-align: top;\n",
              "    }\n",
              "\n",
              "    .dataframe thead th {\n",
              "        text-align: right;\n",
              "    }\n",
              "</style>\n",
              "<table border=\"1\" class=\"dataframe\">\n",
              "  <thead>\n",
              "    <tr style=\"text-align: right;\">\n",
              "      <th></th>\n",
              "      <th>0</th>\n",
              "    </tr>\n",
              "  </thead>\n",
              "  <tbody>\n",
              "    <tr>\n",
              "      <th>id</th>\n",
              "      <td>0</td>\n",
              "    </tr>\n",
              "    <tr>\n",
              "      <th>loan_amount</th>\n",
              "      <td>0</td>\n",
              "    </tr>\n",
              "    <tr>\n",
              "      <th>funded_amount</th>\n",
              "      <td>0</td>\n",
              "    </tr>\n",
              "    <tr>\n",
              "      <th>funded_amount_invoice</th>\n",
              "      <td>0</td>\n",
              "    </tr>\n",
              "    <tr>\n",
              "      <th>term</th>\n",
              "      <td>0</td>\n",
              "    </tr>\n",
              "    <tr>\n",
              "      <th>interest_rate</th>\n",
              "      <td>0</td>\n",
              "    </tr>\n",
              "    <tr>\n",
              "      <th>installment</th>\n",
              "      <td>0</td>\n",
              "    </tr>\n",
              "    <tr>\n",
              "      <th>grade</th>\n",
              "      <td>0</td>\n",
              "    </tr>\n",
              "    <tr>\n",
              "      <th>emploment_title</th>\n",
              "      <td>9021</td>\n",
              "    </tr>\n",
              "    <tr>\n",
              "      <th>employment_length</th>\n",
              "      <td>8831</td>\n",
              "    </tr>\n",
              "    <tr>\n",
              "      <th>home_ownership</th>\n",
              "      <td>2</td>\n",
              "    </tr>\n",
              "    <tr>\n",
              "      <th>annual_income</th>\n",
              "      <td>2</td>\n",
              "    </tr>\n",
              "    <tr>\n",
              "      <th>verification_status</th>\n",
              "      <td>2</td>\n",
              "    </tr>\n",
              "    <tr>\n",
              "      <th>issue_date</th>\n",
              "      <td>2</td>\n",
              "    </tr>\n",
              "    <tr>\n",
              "      <th>purpose</th>\n",
              "      <td>2</td>\n",
              "    </tr>\n",
              "    <tr>\n",
              "      <th>address_state</th>\n",
              "      <td>2</td>\n",
              "    </tr>\n",
              "    <tr>\n",
              "      <th>debt_to_income</th>\n",
              "      <td>30</td>\n",
              "    </tr>\n",
              "    <tr>\n",
              "      <th>delinq_2yrs</th>\n",
              "      <td>2</td>\n",
              "    </tr>\n",
              "    <tr>\n",
              "      <th>earliest_credit_line</th>\n",
              "      <td>2</td>\n",
              "    </tr>\n",
              "    <tr>\n",
              "      <th>inquiry_last_6mths</th>\n",
              "      <td>4</td>\n",
              "    </tr>\n",
              "    <tr>\n",
              "      <th>open_accont</th>\n",
              "      <td>4</td>\n",
              "    </tr>\n",
              "    <tr>\n",
              "      <th>public_record</th>\n",
              "      <td>4</td>\n",
              "    </tr>\n",
              "    <tr>\n",
              "      <th>revolving_balance</th>\n",
              "      <td>4</td>\n",
              "    </tr>\n",
              "    <tr>\n",
              "      <th>revoling_utility</th>\n",
              "      <td>90</td>\n",
              "    </tr>\n",
              "    <tr>\n",
              "      <th>total_account</th>\n",
              "      <td>4</td>\n",
              "    </tr>\n",
              "    <tr>\n",
              "      <th>out_previously_reported_no_change</th>\n",
              "      <td>4</td>\n",
              "    </tr>\n",
              "    <tr>\n",
              "      <th>total_paymnt</th>\n",
              "      <td>4</td>\n",
              "    </tr>\n",
              "  </tbody>\n",
              "</table>\n",
              "</div><br><label><b>dtype:</b> int64</label>"
            ]
          },
          "metadata": {},
          "execution_count": 73
        }
      ],
      "source": [
        "df2.isnull().sum()"
      ]
    },
    {
      "cell_type": "markdown",
      "id": "8ceb88f1-6ba5-481e-b6d6-3d00afa6a8fa",
      "metadata": {
        "id": "8ceb88f1-6ba5-481e-b6d6-3d00afa6a8fa"
      },
      "source": [
        "### Handling Missing Values"
      ]
    },
    {
      "cell_type": "code",
      "execution_count": 74,
      "id": "5bb966a1-a901-4b3a-9032-51a6a0a6a658",
      "metadata": {
        "id": "5bb966a1-a901-4b3a-9032-51a6a0a6a658"
      },
      "outputs": [],
      "source": [
        "# Filling missing values with median\n",
        "df2['debt_to_income'].fillna(df2['debt_to_income'].median(), inplace=True)\n",
        "df2['revoling_utility'].fillna(df2['revoling_utility'].median(), inplace=True)\n",
        "\n",
        "# Drop rows of small missing values\n",
        "df2.dropna(subset=[ 'home_ownership', 'annual_income', 'verification_status', 'issue_date', 'purpose', 'address_state',\n",
        "                  'delinq_2yrs', 'earliest_credit_line','inquiry_last_6mths', 'open_accont', 'public_record',\n",
        "       'revolving_balance','total_account', 'out_previously_reported_no_change', 'total_paymnt'], inplace=True)"
      ]
    },
    {
      "cell_type": "code",
      "execution_count": 75,
      "id": "f0c33e61-72b3-461f-a3e1-d24b904aa3ac",
      "metadata": {
        "colab": {
          "base_uri": "https://localhost:8080/",
          "height": 931
        },
        "id": "f0c33e61-72b3-461f-a3e1-d24b904aa3ac",
        "outputId": "a14244cd-952e-4810-83ed-30ead4e5d7cb"
      },
      "outputs": [
        {
          "output_type": "execute_result",
          "data": {
            "text/plain": [
              "id                                      0\n",
              "loan_amount                             0\n",
              "funded_amount                           0\n",
              "funded_amount_invoice                   0\n",
              "term                                    0\n",
              "interest_rate                           0\n",
              "installment                             0\n",
              "grade                                   0\n",
              "emploment_title                      9021\n",
              "employment_length                    8829\n",
              "home_ownership                          0\n",
              "annual_income                           0\n",
              "verification_status                     0\n",
              "issue_date                              0\n",
              "purpose                                 0\n",
              "address_state                           0\n",
              "debt_to_income                          0\n",
              "delinq_2yrs                             0\n",
              "earliest_credit_line                    0\n",
              "inquiry_last_6mths                      0\n",
              "open_accont                             0\n",
              "public_record                           0\n",
              "revolving_balance                       0\n",
              "revoling_utility                        0\n",
              "total_account                           0\n",
              "out_previously_reported_no_change       0\n",
              "total_paymnt                            0\n",
              "dtype: int64"
            ],
            "text/html": [
              "<div>\n",
              "<style scoped>\n",
              "    .dataframe tbody tr th:only-of-type {\n",
              "        vertical-align: middle;\n",
              "    }\n",
              "\n",
              "    .dataframe tbody tr th {\n",
              "        vertical-align: top;\n",
              "    }\n",
              "\n",
              "    .dataframe thead th {\n",
              "        text-align: right;\n",
              "    }\n",
              "</style>\n",
              "<table border=\"1\" class=\"dataframe\">\n",
              "  <thead>\n",
              "    <tr style=\"text-align: right;\">\n",
              "      <th></th>\n",
              "      <th>0</th>\n",
              "    </tr>\n",
              "  </thead>\n",
              "  <tbody>\n",
              "    <tr>\n",
              "      <th>id</th>\n",
              "      <td>0</td>\n",
              "    </tr>\n",
              "    <tr>\n",
              "      <th>loan_amount</th>\n",
              "      <td>0</td>\n",
              "    </tr>\n",
              "    <tr>\n",
              "      <th>funded_amount</th>\n",
              "      <td>0</td>\n",
              "    </tr>\n",
              "    <tr>\n",
              "      <th>funded_amount_invoice</th>\n",
              "      <td>0</td>\n",
              "    </tr>\n",
              "    <tr>\n",
              "      <th>term</th>\n",
              "      <td>0</td>\n",
              "    </tr>\n",
              "    <tr>\n",
              "      <th>interest_rate</th>\n",
              "      <td>0</td>\n",
              "    </tr>\n",
              "    <tr>\n",
              "      <th>installment</th>\n",
              "      <td>0</td>\n",
              "    </tr>\n",
              "    <tr>\n",
              "      <th>grade</th>\n",
              "      <td>0</td>\n",
              "    </tr>\n",
              "    <tr>\n",
              "      <th>emploment_title</th>\n",
              "      <td>9021</td>\n",
              "    </tr>\n",
              "    <tr>\n",
              "      <th>employment_length</th>\n",
              "      <td>8829</td>\n",
              "    </tr>\n",
              "    <tr>\n",
              "      <th>home_ownership</th>\n",
              "      <td>0</td>\n",
              "    </tr>\n",
              "    <tr>\n",
              "      <th>annual_income</th>\n",
              "      <td>0</td>\n",
              "    </tr>\n",
              "    <tr>\n",
              "      <th>verification_status</th>\n",
              "      <td>0</td>\n",
              "    </tr>\n",
              "    <tr>\n",
              "      <th>issue_date</th>\n",
              "      <td>0</td>\n",
              "    </tr>\n",
              "    <tr>\n",
              "      <th>purpose</th>\n",
              "      <td>0</td>\n",
              "    </tr>\n",
              "    <tr>\n",
              "      <th>address_state</th>\n",
              "      <td>0</td>\n",
              "    </tr>\n",
              "    <tr>\n",
              "      <th>debt_to_income</th>\n",
              "      <td>0</td>\n",
              "    </tr>\n",
              "    <tr>\n",
              "      <th>delinq_2yrs</th>\n",
              "      <td>0</td>\n",
              "    </tr>\n",
              "    <tr>\n",
              "      <th>earliest_credit_line</th>\n",
              "      <td>0</td>\n",
              "    </tr>\n",
              "    <tr>\n",
              "      <th>inquiry_last_6mths</th>\n",
              "      <td>0</td>\n",
              "    </tr>\n",
              "    <tr>\n",
              "      <th>open_accont</th>\n",
              "      <td>0</td>\n",
              "    </tr>\n",
              "    <tr>\n",
              "      <th>public_record</th>\n",
              "      <td>0</td>\n",
              "    </tr>\n",
              "    <tr>\n",
              "      <th>revolving_balance</th>\n",
              "      <td>0</td>\n",
              "    </tr>\n",
              "    <tr>\n",
              "      <th>revoling_utility</th>\n",
              "      <td>0</td>\n",
              "    </tr>\n",
              "    <tr>\n",
              "      <th>total_account</th>\n",
              "      <td>0</td>\n",
              "    </tr>\n",
              "    <tr>\n",
              "      <th>out_previously_reported_no_change</th>\n",
              "      <td>0</td>\n",
              "    </tr>\n",
              "    <tr>\n",
              "      <th>total_paymnt</th>\n",
              "      <td>0</td>\n",
              "    </tr>\n",
              "  </tbody>\n",
              "</table>\n",
              "</div><br><label><b>dtype:</b> int64</label>"
            ]
          },
          "metadata": {},
          "execution_count": 75
        }
      ],
      "source": [
        "df2.isnull().sum()"
      ]
    },
    {
      "cell_type": "markdown",
      "id": "a14e9934-3988-4868-81b2-ee2282aab228",
      "metadata": {
        "id": "a14e9934-3988-4868-81b2-ee2282aab228"
      },
      "source": [
        "### Dropping Uncessary Columns"
      ]
    },
    {
      "cell_type": "code",
      "execution_count": 76,
      "id": "dedfaa01-c95c-4662-86de-ea1ffb295262",
      "metadata": {
        "id": "dedfaa01-c95c-4662-86de-ea1ffb295262"
      },
      "outputs": [],
      "source": [
        "# Drop the Unnamed Column if it’s just an index or ID\n",
        "df2 = df2.drop(columns=['id','emploment_title','employment_length','issue_date','address_state','grade','purpose'])"
      ]
    },
    {
      "cell_type": "markdown",
      "id": "a7484689-edb0-4476-abb1-3a42169a72b8",
      "metadata": {
        "id": "a7484689-edb0-4476-abb1-3a42169a72b8"
      },
      "source": [
        "### Outiler detection and treatment"
      ]
    },
    {
      "cell_type": "code",
      "execution_count": 77,
      "id": "Mho60GEU71GX",
      "metadata": {
        "colab": {
          "base_uri": "https://localhost:8080/"
        },
        "id": "Mho60GEU71GX",
        "outputId": "acb243bf-b6bd-434e-e578-86f38d8c895c"
      },
      "outputs": [
        {
          "output_type": "execute_result",
          "data": {
            "text/plain": [
              "(134596, 20)"
            ]
          },
          "metadata": {},
          "execution_count": 77
        }
      ],
      "source": [
        "df2.shape"
      ]
    },
    {
      "cell_type": "code",
      "execution_count": 78,
      "id": "aad2517d-3b4f-4145-92d3-229dc9445e51",
      "metadata": {
        "colab": {
          "base_uri": "https://localhost:8080/",
          "height": 443
        },
        "id": "aad2517d-3b4f-4145-92d3-229dc9445e51",
        "outputId": "6e0e6505-ffe9-4f6b-baee-f8cb94c80878"
      },
      "outputs": [
        {
          "output_type": "execute_result",
          "data": {
            "text/plain": [
              "<Axes: ylabel='annual_income'>"
            ]
          },
          "metadata": {},
          "execution_count": 78
        },
        {
          "output_type": "display_data",
          "data": {
            "text/plain": [
              "<Figure size 640x480 with 1 Axes>"
            ],
            "image/png": "[encoded data removed]"
          },
          "metadata": {}
        }
      ],
      "source": [
        "sns.boxplot(df2['annual_income'])"
      ]
    },
    {
      "cell_type": "code",
      "execution_count": 79,
      "id": "bbba6dae-6631-4628-92e5-c5a0fa8aec43",
      "metadata": {
        "id": "bbba6dae-6631-4628-92e5-c5a0fa8aec43"
      },
      "outputs": [],
      "source": [
        "## Removing Outliers for Annual Income using IQR\n",
        "Q1 = df2['annual_income'].quantile(0.25)\n",
        "Q3 = df2['annual_income'].quantile(0.75)\n",
        "IQR = Q3 - Q1\n",
        "df2 = df2[(df2['annual_income']>= Q1 - 1.5 * IQR) & (df2['annual_income'] <= Q3 + 1.5 * IQR)]"
      ]
    },
    {
      "cell_type": "code",
      "execution_count": 80,
      "id": "66b28900-b821-47ce-b230-6bdafcf3edd4",
      "metadata": {
        "colab": {
          "base_uri": "https://localhost:8080/",
          "height": 433
        },
        "id": "66b28900-b821-47ce-b230-6bdafcf3edd4",
        "outputId": "fa763573-a502-4962-a4e0-a7d218ac24f1"
      },
      "outputs": [
        {
          "output_type": "execute_result",
          "data": {
            "text/plain": [
              "<Axes: ylabel='annual_income'>"
            ]
          },
          "metadata": {},
          "execution_count": 80
        },
        {
          "output_type": "display_data",
          "data": {
            "text/plain": [
              "<Figure size 640x480 with 1 Axes>"
            ],
            "image/png": "[encoded data removed]"
          },
          "metadata": {}
        }
      ],
      "source": [
        "sns.boxplot(df2['annual_income'])"
      ]
    },
    {
      "cell_type": "markdown",
      "id": "58172c9e-60e3-4ab3-bea9-91cd94c8d8eb",
      "metadata": {
        "id": "58172c9e-60e3-4ab3-bea9-91cd94c8d8eb"
      },
      "source": [
        "## Feature Engineering"
      ]
    },
    {
      "cell_type": "code",
      "execution_count": 81,
      "id": "e12a91b7-de4e-49cf-a025-54555019f85d",
      "metadata": {
        "id": "e12a91b7-de4e-49cf-a025-54555019f85d"
      },
      "outputs": [],
      "source": [
        "# Debt-to-Income ratio flag (higher ratios indicate higher credit risk)\n",
        "df2['high_dti_flag'] = np.where(df2['debt_to_income'] > 35, 1, 0)\n",
        "\n",
        "# Revolving Balance to Total Payment Ratio\n",
        "df2['revolving_balance_to_payment'] = df2['revolving_balance'] / (df2['total_paymnt'] + 1)  # Adding 1 to avoid division by zero"
      ]
    },
    {
      "cell_type": "code",
      "execution_count": null,
      "id": "BI7NCQpi0g5A",
      "metadata": {
        "colab": {
          "base_uri": "https://localhost:8080/",
          "height": 458
        },
        "id": "BI7NCQpi0g5A",
        "outputId": "152e0af4-885a-4450-aa22-2fdf05c5e45d"
      },
      "outputs": [
        {
          "output_type": "execute_result",
          "data": {
            "text/plain": [
              "0         0\n",
              "1         0\n",
              "2         0\n",
              "3         1\n",
              "4         0\n",
              "         ..\n",
              "134595    0\n",
              "134596    0\n",
              "134597    0\n",
              "134598    0\n",
              "134599    0\n",
              "Name: high_dti_flag, Length: 127746, dtype: int64"
            ],
            "text/html": [
              "<div>\n",
              "<style scoped>\n",
              "    .dataframe tbody tr th:only-of-type {\n",
              "        vertical-align: middle;\n",
              "    }\n",
              "\n",
              "    .dataframe tbody tr th {\n",
              "        vertical-align: top;\n",
              "    }\n",
              "\n",
              "    .dataframe thead th {\n",
              "        text-align: right;\n",
              "    }\n",
              "</style>\n",
              "<table border=\"1\" class=\"dataframe\">\n",
              "  <thead>\n",
              "    <tr style=\"text-align: right;\">\n",
              "      <th></th>\n",
              "      <th>high_dti_flag</th>\n",
              "    </tr>\n",
              "  </thead>\n",
              "  <tbody>\n",
              "    <tr>\n",
              "      <th>0</th>\n",
              "      <td>0</td>\n",
              "    </tr>\n",
              "    <tr>\n",
              "      <th>1</th>\n",
              "      <td>0</td>\n",
              "    </tr>\n",
              "    <tr>\n",
              "      <th>2</th>\n",
              "      <td>0</td>\n",
              "    </tr>\n",
              "    <tr>\n",
              "      <th>3</th>\n",
              "      <td>1</td>\n",
              "    </tr>\n",
              "    <tr>\n",
              "      <th>4</th>\n",
              "      <td>0</td>\n",
              "    </tr>\n",
              "    <tr>\n",
              "      <th>...</th>\n",
              "      <td>...</td>\n",
              "    </tr>\n",
              "    <tr>\n",
              "      <th>134595</th>\n",
              "      <td>0</td>\n",
              "    </tr>\n",
              "    <tr>\n",
              "      <th>134596</th>\n",
              "      <td>0</td>\n",
              "    </tr>\n",
              "    <tr>\n",
              "      <th>134597</th>\n",
              "      <td>0</td>\n",
              "    </tr>\n",
              "    <tr>\n",
              "      <th>134598</th>\n",
              "      <td>0</td>\n",
              "    </tr>\n",
              "    <tr>\n",
              "      <th>134599</th>\n",
              "      <td>0</td>\n",
              "    </tr>\n",
              "  </tbody>\n",
              "</table>\n",
              "<p>127746 rows × 1 columns</p>\n",
              "</div><br><label><b>dtype:</b> int64</label>"
            ]
          },
          "metadata": {},
          "execution_count": 36
        }
      ],
      "source": [
        "df2['high_dti_flag']"
      ]
    },
    {
      "cell_type": "code",
      "execution_count": 82,
      "id": "kl3-55GAUUjH",
      "metadata": {
        "id": "kl3-55GAUUjH"
      },
      "outputs": [],
      "source": [
        "# Log transformation for highly skewed data\n",
        "df2['annual_income_log'] = np.log1p(df2['annual_income'])"
      ]
    },
    {
      "cell_type": "raw",
      "id": "7abae169-33fd-4ecf-9c4d-a8eb6095a8d2",
      "metadata": {
        "id": "7abae169-33fd-4ecf-9c4d-a8eb6095a8d2"
      },
      "source": [
        "# Log transformation for highly skewed data\n",
        "df2['annual_income_log'] = np.log1p(df2['annual_income'])\n",
        "df2['loan_amount_log'] = np.log1p(df2['loan_amount'])"
      ]
    },
    {
      "cell_type": "markdown",
      "id": "ce616aa2-77c4-4c0b-a482-fe84b75fb36e",
      "metadata": {
        "id": "ce616aa2-77c4-4c0b-a482-fe84b75fb36e"
      },
      "source": [
        "## Exploratory Data Analysis"
      ]
    },
    {
      "cell_type": "code",
      "execution_count": 83,
      "id": "saEXkZGZe7xM",
      "metadata": {
        "id": "saEXkZGZe7xM"
      },
      "outputs": [],
      "source": [
        "# Convert 'term' column to string, then extract numeric part and convert it to integer\n",
        "df2['term'] = df2['term'].astype(str).str.extract('(\\d+)').astype(int)"
      ]
    },
    {
      "cell_type": "code",
      "execution_count": 84,
      "id": "GFELFwHKfV1x",
      "metadata": {
        "id": "GFELFwHKfV1x"
      },
      "outputs": [],
      "source": [
        "df2['revolving_utilization'] = df2['revolving_balance'] / df2['revoling_utility']"
      ]
    },
    {
      "cell_type": "code",
      "execution_count": 85,
      "id": "lsKxQDcAWsIb",
      "metadata": {
        "colab": {
          "base_uri": "https://localhost:8080/"
        },
        "id": "lsKxQDcAWsIb",
        "outputId": "bdbbf88f-e027-4a27-f69a-744baf4dcd00"
      },
      "outputs": [
        {
          "output_type": "execute_result",
          "data": {
            "text/plain": [
              "(127746, 24)"
            ]
          },
          "metadata": {},
          "execution_count": 85
        }
      ],
      "source": [
        "df2.shape"
      ]
    },
    {
      "cell_type": "code",
      "execution_count": 86,
      "id": "a00d6cea-8f9d-44e6-8062-8bece982ecfc",
      "metadata": {
        "colab": {
          "base_uri": "https://localhost:8080/",
          "height": 564
        },
        "id": "a00d6cea-8f9d-44e6-8062-8bece982ecfc",
        "outputId": "358ca652-d3e4-41ca-fc01-421c2c64d8bb"
      },
      "outputs": [
        {
          "output_type": "display_data",
          "data": {
            "text/plain": [
              "<Figure size 800x600 with 1 Axes>"
            ],
            "image/png": "[encoded data removed]"
          },
          "metadata": {}
        }
      ],
      "source": [
        "# Distribution of verification_status\n",
        "plt.figure(figsize=(8, 6))\n",
        "sns.countplot(x='verification_status', data=df2)\n",
        "plt.title('verification_status Distribution')\n",
        "plt.xlabel('verification_status')\n",
        "plt.ylabel('Count')\n",
        "plt.show()"
      ]
    },
    {
      "cell_type": "markdown",
      "id": "05a4f4ef-c3ee-4ab2-ad22-8f2da3dfde98",
      "metadata": {
        "id": "05a4f4ef-c3ee-4ab2-ad22-8f2da3dfde98"
      },
      "source": [
        "## Model Selection & Data Splitting"
      ]
    },
    {
      "cell_type": "code",
      "execution_count": 87,
      "id": "DB9sKruT9S3C",
      "metadata": {
        "id": "DB9sKruT9S3C"
      },
      "outputs": [],
      "source": [
        "le=LabelEncoder()\n",
        "df2['verification_status']=le.fit_transform(df2['verification_status'])\n",
        "df2['home_ownership']=le.fit_transform(df2['home_ownership'])"
      ]
    },
    {
      "cell_type": "code",
      "execution_count": 88,
      "id": "c786035b-513f-440d-a7d7-1259aedce218",
      "metadata": {
        "id": "c786035b-513f-440d-a7d7-1259aedce218"
      },
      "outputs": [],
      "source": [
        "# Define target and features\n",
        "target =df2['verification_status']\n",
        "features=['revolving_balance_to_payment','annual_income_log',\n",
        "          'term','installment','interest_rate',\n",
        "\n",
        "'loan_amount','high_dti_flag'\n",
        "          ,'inquiry_last_6mths',\n",
        "          'debt_to_income','home_ownership','delinq_2yrs',\n",
        "          'total_paymnt',\n",
        "          'revolving_balance']\n",
        "\n",
        "X1 = df2[features]\n",
        "y1 = target\n",
        "\n",
        "# Train-Test Split\n",
        "X_train1, X_test1, y_train1, y_test1 = train_test_split(X1, y1, test_size=0.2, random_state=42)\n",
        "\n",
        "#Scaling\n",
        "scaler = StandardScaler()\n",
        "X_train1 = scaler.fit_transform(X_train1)\n",
        "X_test1 = scaler.transform(X_test1)"
      ]
    },
    {
      "cell_type": "markdown",
      "id": "c4ada80e-d49a-404d-a4e3-5bcd46d6dd71",
      "metadata": {
        "id": "c4ada80e-d49a-404d-a4e3-5bcd46d6dd71"
      },
      "source": [
        "### Logistic Regression"
      ]
    },
    {
      "cell_type": "code",
      "execution_count": 89,
      "id": "523dcdca-47ad-4f1e-a75b-05a88248c183",
      "metadata": {
        "colab": {
          "base_uri": "https://localhost:8080/"
        },
        "id": "523dcdca-47ad-4f1e-a75b-05a88248c183",
        "outputId": "daf2c719-6418-44de-ee40-a158eeb77810"
      },
      "outputs": [
        {
          "output_type": "stream",
          "name": "stdout",
          "text": [
            "Classification Report:\n",
            "               precision    recall  f1-score   support\n",
            "\n",
            "           0       0.51      0.50      0.50      8043\n",
            "           1       0.45      0.56      0.50      9956\n",
            "           2       0.49      0.36      0.41      7551\n",
            "\n",
            "    accuracy                           0.48     25550\n",
            "   macro avg       0.49      0.47      0.47     25550\n",
            "weighted avg       0.48      0.48      0.48     25550\n",
            "\n",
            "Confusion Matrix:\n",
            " [[3983 3215  845]\n",
            " [2472 5574 1910]\n",
            " [1294 3564 2693]]\n",
            "Accuracy_score 0.4794520547945205\n"
          ]
        }
      ],
      "source": [
        "# Logistic Regression Model\n",
        "lr = LogisticRegression(multi_class='multinomial', solver='lbfgs')\n",
        "lr.fit(X_train1, y_train1)\n",
        "\n",
        "# Predictions and Evaluation\n",
        "y_pred1 = lr.predict(X_test1)\n",
        "print(\"Classification Report:\\n\", classification_report(y_test1, y_pred1))\n",
        "print(\"Confusion Matrix:\\n\", confusion_matrix(y_test1, y_pred1))\n",
        "\n",
        "print(\"Accuracy_score\",accuracy_score(y_test1,y_pred1))"
      ]
    },
    {
      "cell_type": "markdown",
      "id": "e3a0473a-9742-4207-a5a3-28818bc21e2c",
      "metadata": {
        "id": "e3a0473a-9742-4207-a5a3-28818bc21e2c"
      },
      "source": [
        "### Random Forest"
      ]
    },
    {
      "cell_type": "code",
      "source": [
        "\n",
        "def plot_multiclass_roc(clf, x_test, y_test, n_classes, figsize=(10, 5)):\n",
        "    fpr = dict()\n",
        "    tpr = dict()\n",
        "    roc_auc = dict()\n",
        "\n",
        "    y_test_dummies = pd.get_dummies(y_test, drop_first=False).values  # Ensure y_test is correctly formatted\n",
        "\n",
        "    # Assuming clf.predict_proba() gives you probabilities for each class\n",
        "    y_score = clf.predict_proba(x_test)\n",
        "\n",
        "    for i in range(n_classes):\n",
        "        fpr[i], tpr[i], _ = roc_curve(y_test_dummies[:, i], y_score[:, i])\n",
        "        roc_auc[i] = auc(fpr[i], tpr[i])\n",
        "\n",
        "    # Plot ROC curves\n",
        "    plt.figure(figsize=figsize)\n",
        "    colors = ['blue', 'red', 'green']  # Adjust based on your number of classes\n",
        "    for i, color in zip(range(n_classes), colors):\n",
        "        plt.plot(fpr[i], tpr[i], color=color, lw=2,\n",
        "                 label='ROC curve of class {0} (area = {1:0.2f})'\n",
        "                       ''.format(i, roc_auc[i]))\n",
        "\n",
        "    plt.plot([0, 1], [0, 1], 'k--', lw=2)\n",
        "    plt.xlim([0.0, 1.0])\n",
        "    plt.ylim([0.0, 1.05])\n",
        "    plt.xlabel('False Positive Rate')\n",
        "    plt.ylabel('True Positive Rate')\n",
        "    plt.title('Receiver Operating Characteristic (ROC)')\n",
        "    plt.legend(loc=\"lower right\")\n",
        "    plt.show()\n",
        "\n",
        "\n",
        "plot_multiclass_roc(lr, X_test1, y_test1, n_classes=3)\n"
      ],
      "metadata": {
        "colab": {
          "base_uri": "https://localhost:8080/",
          "height": 487
        },
        "id": "2ExGADowi_1w",
        "outputId": "00c92b1f-6403-45ba-84bb-ab8e2aeca7ef"
      },
      "id": "2ExGADowi_1w",
      "execution_count": 97,
      "outputs": [
        {
          "output_type": "display_data",
          "data": {
            "text/plain": [
              "<Figure size 1000x500 with 1 Axes>"
            ],
            "image/png": "[encoded data removed]"
          },
          "metadata": {}
        }
      ]
    },
    {
      "cell_type": "code",
      "execution_count": 90,
      "id": "851TdL5AsM69",
      "metadata": {
        "colab": {
          "base_uri": "https://localhost:8080/"
        },
        "id": "851TdL5AsM69",
        "outputId": "f7cdad47-734a-4d44-f4c4-8efb446a4bfd"
      },
      "outputs": [
        {
          "output_type": "stream",
          "name": "stdout",
          "text": [
            "Random Forest Report:\n",
            "               precision    recall  f1-score   support\n",
            "\n",
            "           0       0.52      0.56      0.54      8043\n",
            "           1       0.46      0.58      0.51      9956\n",
            "           2       0.52      0.31      0.39      7551\n",
            "\n",
            "    accuracy                           0.49     25550\n",
            "   macro avg       0.50      0.48      0.48     25550\n",
            "weighted avg       0.50      0.49      0.48     25550\n",
            "\n",
            "Confusion Matrix:\n",
            " [[4493 2931  619]\n",
            " [2697 5743 1516]\n",
            " [1396 3821 2334]]\n",
            "accuracy_score:\n",
            " 0.4919765166340509\n"
          ]
        }
      ],
      "source": [
        "# Random Forest Model\n",
        "rf = RandomForestClassifier(n_estimators=50, criterion='gini', max_depth=9,random_state=76,min_samples_split=3)\n",
        "rf.fit(X_train1,y_train1)\n",
        "# prediction and evaluation\n",
        "pred=rf.predict(X_test1)\n",
        "print(\"Random Forest Report:\\n\", classification_report(y_test1,pred))\n",
        "print(\"Confusion Matrix:\\n\", confusion_matrix(y_test1,pred))\n",
        "\n",
        "print(\"accuracy_score:\\n\",accuracy_score(y_test1,pred))"
      ]
    },
    {
      "cell_type": "code",
      "source": [
        "plot_multiclass_roc(rf, X_test1, y_test1, n_classes=3)"
      ],
      "metadata": {
        "colab": {
          "base_uri": "https://localhost:8080/",
          "height": 487
        },
        "id": "Juz6SZ0ejRfD",
        "outputId": "e04d24c2-ed91-476d-e85d-afa1a58ef146"
      },
      "id": "Juz6SZ0ejRfD",
      "execution_count": 98,
      "outputs": [
        {
          "output_type": "display_data",
          "data": {
            "text/plain": [
              "<Figure size 1000x500 with 1 Axes>"
            ],
            "image/png": "[encoded data removed]"
          },
          "metadata": {}
        }
      ]
    },
    {
      "cell_type": "code",
      "execution_count": 91,
      "id": "2nWP3AX1YtXK",
      "metadata": {
        "colab": {
          "base_uri": "https://localhost:8080/"
        },
        "id": "2nWP3AX1YtXK",
        "outputId": "3bf6c1e8-92ab-4072-db75-806d0cf6706a"
      },
      "outputs": [
        {
          "output_type": "stream",
          "name": "stdout",
          "text": [
            "XG Boost Report:\n",
            "               precision    recall  f1-score   support\n",
            "\n",
            "           0       0.52      0.54      0.53      8043\n",
            "           1       0.47      0.55      0.51      9956\n",
            "           2       0.50      0.36      0.42      7551\n",
            "\n",
            "    accuracy                           0.49     25550\n",
            "   macro avg       0.50      0.48      0.49     25550\n",
            "weighted avg       0.49      0.49      0.49     25550\n",
            "\n",
            "Confusion Matrix:\n",
            " [[4328 2866  849]\n",
            " [2545 5502 1909]\n",
            " [1378 3430 2743]]\n",
            "accuracy_score of XG Boost:\n",
            " 0.4920939334637965\n"
          ]
        }
      ],
      "source": [
        "# xtreme gradient boost model\n",
        "xgb=XGBClassifier()\n",
        "xgb.fit(X_train1,y_train1)\n",
        "# prediction and evaluation\n",
        "pred_xgb=xgb.predict(X_test1)\n",
        "print(\"XG Boost Report:\\n\", classification_report(y_test1,pred_xgb))\n",
        "print(\"Confusion Matrix:\\n\", confusion_matrix(y_test1,pred_xgb))\n",
        "\n",
        "print(\"accuracy_score of XG Boost:\\n\",accuracy_score(y_test1,pred_xgb))"
      ]
    },
    {
      "cell_type": "code",
      "source": [
        "plot_multiclass_roc(xgb, X_test1, y_test1, n_classes=3)"
      ],
      "metadata": {
        "colab": {
          "base_uri": "https://localhost:8080/",
          "height": 487
        },
        "id": "Lrhj4oHLjiu4",
        "outputId": "f142eb71-2b64-44f1-b055-7f9f8146af00"
      },
      "id": "Lrhj4oHLjiu4",
      "execution_count": 99,
      "outputs": [
        {
          "output_type": "display_data",
          "data": {
            "text/plain": [
              "<Figure size 1000x500 with 1 Axes>"
            ],
            "image/png": "[encoded data removed]"
          },
          "metadata": {}
        }
      ]
    },
    {
      "cell_type": "markdown",
      "id": "4b08c886-187d-4bf4-987e-90f35166cd0b",
      "metadata": {
        "id": "4b08c886-187d-4bf4-987e-90f35166cd0b"
      },
      "source": [
        "Comment: None of the model is performing well, it's seem like there's some issue with the data."
      ]
    }
  ],
  "metadata": {
    "accelerator": "GPU",
    "colab": {
      "gpuType": "T4",
      "provenance": []
    },
    "kernelspec": {
      "display_name": "Python 3",
      "name": "python3"
    },
    "language_info": {
      "codemirror_mode": {
        "name": "ipython",
        "version": 3
      },
      "file_extension": ".py",
      "mimetype": "text/x-python",
      "name": "python",
      "nbconvert_exporter": "python",
      "pygments_lexer": "ipython3",
      "version": "3.11.7"
    }
  },
  "nbformat": 4,
  "nbformat_minor": 5
}